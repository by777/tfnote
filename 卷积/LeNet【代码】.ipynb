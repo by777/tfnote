{
 "cells": [
  {
   "cell_type": "code",
   "execution_count": 1,
   "metadata": {},
   "outputs": [],
   "source": [
    "import numpy as np\n",
    "import os\n",
    "import tensorflow as tf\n",
    "from tensorflow.keras.layers import Flatten,Dense,Conv2D,MaxPool2D\n",
    "from tensorflow.keras import Model,Sequential\n",
    "from tensorflow.keras import datasets\n",
    "from tensorflow.keras.losses import SparseCategoricalCrossentropy\n",
    "from matplotlib import pyplot as plt"
   ]
  },
  {
   "cell_type": "code",
   "execution_count": 2,
   "metadata": {},
   "outputs": [],
   "source": [
    "np.set_printoptions(threshold=np.inf)"
   ]
  },
  {
   "cell_type": "code",
   "execution_count": 3,
   "metadata": {},
   "outputs": [
    {
     "name": "stdout",
     "output_type": "stream",
     "text": [
      "------load the model-----\n",
      "Train on 50000 samples, validate on 10000 samples\n",
      "Epoch 1/5\n",
      "50000/50000 [==============================] - 17s 349us/sample - loss: 1.4291 - sparse_categorical_accuracy: 0.4832 - val_loss: 1.4068 - val_sparse_categorical_accuracy: 0.4920\n",
      "Epoch 2/5\n",
      "50000/50000 [==============================] - 20s 399us/sample - loss: 1.3834 - sparse_categorical_accuracy: 0.5009 - val_loss: 1.3674 - val_sparse_categorical_accuracy: 0.5050\n",
      "Epoch 3/5\n",
      "50000/50000 [==============================] - 20s 399us/sample - loss: 1.3481 - sparse_categorical_accuracy: 0.5146 - val_loss: 1.3279 - val_sparse_categorical_accuracy: 0.5225\n",
      "Epoch 4/5\n",
      "50000/50000 [==============================] - 20s 397us/sample - loss: 1.3097 - sparse_categorical_accuracy: 0.5293 - val_loss: 1.3104 - val_sparse_categorical_accuracy: 0.5269\n",
      "Epoch 5/5\n",
      "50000/50000 [==============================] - 20s 398us/sample - loss: 1.2816 - sparse_categorical_accuracy: 0.5408 - val_loss: 1.2991 - val_sparse_categorical_accuracy: 0.5294\n",
      "Model: \"le_net5\"\n",
      "_________________________________________________________________\n",
      "Layer (type)                 Output Shape              Param #   \n",
      "=================================================================\n",
      "conv2d (Conv2D)              multiple                  456       \n",
      "_________________________________________________________________\n",
      "max_pooling2d (MaxPooling2D) multiple                  0         \n",
      "_________________________________________________________________\n",
      "conv2d_1 (Conv2D)            multiple                  2416      \n",
      "_________________________________________________________________\n",
      "max_pooling2d_1 (MaxPooling2 multiple                  0         \n",
      "_________________________________________________________________\n",
      "flatten (Flatten)            multiple                  0         \n",
      "_________________________________________________________________\n",
      "dense (Dense)                multiple                  48120     \n",
      "_________________________________________________________________\n",
      "dense_1 (Dense)              multiple                  10164     \n",
      "_________________________________________________________________\n",
      "dense_2 (Dense)              multiple                  850       \n",
      "=================================================================\n",
      "Total params: 62,006\n",
      "Trainable params: 62,006\n",
      "Non-trainable params: 0\n",
      "_________________________________________________________________\n",
      "保存权重\n"
     ]
    },
    {
     "data": {
      "image/png": "[encoded data removed]",
      "text/plain": [
       "<Figure size 432x288 with 2 Axes>"
      ]
     },
     "metadata": {
      "needs_background": "light"
     },
     "output_type": "display_data"
    }
   ],
   "source": [
    "cifar10 = datasets.cifar10\n",
    "(x_train,y_train),(x_test,y_test) = cifar10.load_data()\n",
    "x_train, x_test = x_train / 255.0, x_test / 255.0\n",
    "\n",
    "class LeNet5(Model):\n",
    "    def __init__(self):\n",
    "        super(LeNet5,self).__init__()\n",
    "        # 1\n",
    "        self.c1 = Conv2D(filters=6,kernel_size=(5,5),activation=\"sigmoid\")\n",
    "        self.p1 = MaxPool2D(pool_size=(2,2),strides=2)\n",
    "        # 2\n",
    "        self.c2 = Conv2D(filters=16,kernel_size=(5,5),activation=\"sigmoid\")\n",
    "        self.p2 = MaxPool2D(pool_size=(2,2),strides=2)\n",
    "        \n",
    "        self.flatten = Flatten()\n",
    "        # 3\n",
    "        self.f1 = Dense(120,activation=\"sigmoid\")\n",
    "        # 4\n",
    "        self.f2 = Dense(84,activation=\"sigmoid\")\n",
    "        # 5\n",
    "        self.f3 = Dense(10,activation=\"softmax\")\n",
    "    def call(self,x):\n",
    "        x = self.c1(x)\n",
    "        x = self.p1(x)\n",
    "        x = self.c2(x)\n",
    "        x = self.p2(x)\n",
    "        x = self.flatten(x)\n",
    "        x = self.f1(x)\n",
    "        x = self.f2(x)\n",
    "        y = self.f3(x)\n",
    "        return y\n",
    "model = LeNet5()\n",
    "\n",
    "model.compile(optimizer=\"adam\",\n",
    "              loss=SparseCategoricalCrossentropy(from_logits=False),\n",
    "              metrics=[\"sparse_categorical_accuracy\"])\n",
    "\n",
    "checkpoint_save_path = \"./chenkpoint/LeNet5.ckpt\"\n",
    "if os.path.exists(checkpoint_save_path + '.index'):\n",
    "    print(\"------load the model-----\")\n",
    "    model.load_weights(checkpoint_save_path)\n",
    "\n",
    "cp_callback = tf.keras.callbacks.ModelCheckpoint(filepath=checkpoint_save_path,\n",
    "                                                 save_weights_only=True,\n",
    "                                                 save_best_only=True)\n",
    "\n",
    "history = model.fit(x_train, y_train, batch_size=32, epochs=5, \n",
    "                    validation_data=(x_test, y_test), \n",
    "                    validation_freq=1,\n",
    "                    callbacks=[cp_callback])\n",
    "model.summary()\n",
    "\n",
    "print(\"保存权重\")\n",
    "with open('./weights.txt','w') as f:\n",
    "    for v in model.trainable_variables:\n",
    "        f.writelines(str(v.name))\n",
    "        f.writelines(str(v.shape))\n",
    "        f.writelines(str(v.numpy()))\n",
    "\n",
    "acc = history.history['sparse_categorical_accuracy']\n",
    "val_acc = history.history['val_sparse_categorical_accuracy']\n",
    "loss = history.history['loss']\n",
    "val_loss = history.history['val_loss']\n",
    "\n",
    "plt.subplot(1,2,1)\n",
    "plt.plot(acc,label=\"Training Accuracy\")\n",
    "plt.plot(val_acc,label=\"Validation Accuracy\")\n",
    "plt.title(\"Training and Validation Accuracy\")\n",
    "plt.legend()\n",
    "\n",
    "plt.subplot(1,2,2)\n",
    "plt.plot(loss,label=\"Training Loss\")\n",
    "plt.plot(val_loss,label=\"Validation Loss\")\n",
    "plt.title(\"Training and Validation Loss\")\n",
    "plt.legend()\n",
    "\n",
    "plt.show()"
   ]
  }
 ],
 "metadata": {
  "kernelspec": {
   "display_name": "Python 3",
   "language": "python",
   "name": "python3"
  },
  "language_info": {
   "codemirror_mode": {
    "name": "ipython",
    "version": 3
   },
   "file_extension": ".py",
   "mimetype": "text/x-python",
   "name": "python",
   "nbconvert_exporter": "python",
   "pygments_lexer": "ipython3",
   "version": "3.7.7"
  }
 },
 "nbformat": 4,
 "nbformat_minor": 4
}
