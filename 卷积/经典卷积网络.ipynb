{
 "cells": [
  {
   "cell_type": "markdown",
   "metadata": {},
   "source": [
    "# 经典卷积网络\n",
    "\n",
    "\n",
    "*在统计卷积神经网络层数时，一般只统计卷积计算层和全连接计算层*\n",
    "\n",
    "\n",
    ">CBAPD\n",
    "\n",
    "##### LeNet(1998)\n",
    "\n",
    "通过共享卷积核减少了网络参数\n",
    "\n",
    "##### AlexNet(2012) \n",
    "\n",
    "诞生于2012，当年ImageNet竞赛的冠军。使用relu激活函数提升了计算速度，Dropout缓解了过拟合\n",
    "\n",
    "##### VGGNet(2014) \n",
    "\n",
    "##### InceptionNet(2014) \n",
    "\n",
    "##### ResNet(2015)"
   ]
  },
  {
   "cell_type": "markdown",
   "metadata": {},
   "source": [
    "### LeNet\n",
    "\n",
    "    class LeNet5(Model):\n",
    "        def __init__(self):\n",
    "            super(LeNet,self).__init__()\n",
    "            # 1\n",
    "            self.c1 = Conv2D(filters=6,kernel_size=(5,5),activation=\"sigmodi)\n",
    "            self.p1 = MaxPool2D(pool_size=(2,2),strides=2)\n",
    "            # 2\n",
    "            self.c2 = Conv2D(filters=16,kernel_size=(5,5),activation=\"sigmoid\")\n",
    "            self.p2 = MaxPool2D(pool_size=(2,2),strides=2)\n",
    "            \n",
    "            self.flatten = Flatten()\n",
    "            # 3\n",
    "            self.f1 = Dense(120,activation=\"sigmoid)\n",
    "            # 4\n",
    "            self.f2 = Dense(84,activation=\"sigmoid\")\n",
    "            # 5\n",
    "            self.f3 = Dense(10,activation=\"softmax\")\n",
    "        def call(self):\n",
    "            ....\n",
    "            return y"
   ]
  },
  {
   "cell_type": "markdown",
   "metadata": {},
   "source": [
    "### AlexNet\n",
    "\n",
    "    class AlexNet8(Model):\n",
    "        def __init__(self):\n",
    "            super(AlexNet,self).__init__()\n",
    "            # 1\n",
    "            self.c1 = Conv2D(filters=96,kernel_size=(3,3))\n",
    "            self.b1 = BatchNormalization()\n",
    "            self.a1 = Activation('relu')\n",
    "            self.p1 = MaxPool2D(pool_size=(3,3),strides=2)\n",
    "            # 2\n",
    "            self.c2 = Conv2D(filters=256,kernel_size=(3,3))\n",
    "            self.b2 = BatchNormalization()\n",
    "            self.a2 = Activation('relu')\n",
    "            self.p2 = MaxPool2D(pool_size=(3,3),strides=2)\n",
    "            # 3\n",
    "            self.c3 = Conv2D(filters=284,kernel_size=(3,3),\n",
    "                        padding='same',activation=\"relu\")\n",
    "            # 4\n",
    "            self.c4 = Conv2D(filters=384,kernel_size=(3,3),\n",
    "                        padding='same',activation=\"relu\")\n",
    "            # 5\n",
    "            self.c5 = Conv2D(filters=256,kernel_size=(3,3),\n",
    "                         padding='same',activation=\"relu\")\n",
    "            self.p3 = MaxPool2D(pool_size=(3,3),strides=2)\n",
    "            \n",
    "            self.flatten = Flatten()\n",
    "            # 6\n",
    "            self.f1 = Dense(2048,activation=\"relu\")\n",
    "            self.d1 = Dropout(0.5)\n",
    "            # 7\n",
    "            self.f2 = Dense(2048,activation=\"relu\")\n",
    "            self.d2 = Dropout(0.5)\n",
    "            # 8\n",
    "            self.f3 = Dense(10,activation=\"softmax\")\n",
    "            \n",
    "        def call(self,x):\n",
    "            x = self.c1(x)\n",
    "            ....\n",
    "            return y\n",
    "\n"
   ]
  },
  {
   "cell_type": "code",
   "execution_count": null,
   "metadata": {},
   "outputs": [],
   "source": []
  }
 ],
 "metadata": {
  "kernelspec": {
   "display_name": "Python 3",
   "language": "python",
   "name": "python3"
  },
  "language_info": {
   "codemirror_mode": {
    "name": "ipython",
    "version": 3
   },
   "file_extension": ".py",
   "mimetype": "text/x-python",
   "name": "python",
   "nbconvert_exporter": "python",
   "pygments_lexer": "ipython3",
   "version": "3.7.7"
  }
 },
 "nbformat": 4,
 "nbformat_minor": 4
}
