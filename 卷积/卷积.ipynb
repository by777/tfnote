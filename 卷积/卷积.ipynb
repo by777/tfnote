{
 "cells": [
  {
   "cell_type": "markdown",
   "metadata": {},
   "source": [
    "> 搭建CNN的口诀：CBAPD\n",
    "\n",
    "+ C（核：6*5*5，步长：1，填充：same）\n",
    "+ B（Yes）批标准化\n",
    "+ A（relu）\n",
    "+ P（max,核：2\\*2，步长：2，填充：same）全0填充\n",
    "+ D（0.2）dropout\n",
    "\n",
    "#### 搭建卷积神经网络示例\n",
    "\n",
    "+ Layer1 : 6个5 * 5的卷积核、过2 * 2的池化核、池化步长是2\n",
    "+ Layer2:Dense 128 （Flatten(),128,relu,Dropout=0.2）\n",
    "+ Layer3:Dense 10（10，softmax）\n",
    "\n",
    "##### eg.\n",
    "    \n",
    "    class Baseline(Model):\n",
    "        def __init__(self):\n",
    "            super(Baseline,self).__init__()\n",
    "            self.c1 = Conv2D(filters=6,kernel_size=(5,5),padding='same) # C\n",
    "            self.b1 = BatchNormalization() # B\n",
    "            self.a1 = Activation('relu') # A\n",
    "            self.p1 = MaxPool2D(pool_size=(2,2),strides=2,padding='same') # P\n",
    "            self.d1 = Dropout(0.2) # D\n",
    "            \n",
    "            self.flatten = Flatten()\n",
    "            self.f1 = Dense(128,activation=\"relu\")\n",
    "            self.d2 = Dropout(0.2)\n",
    "            self.f2 = Dense(10,activation=\"softmax\")\n",
    "            \n",
    "        def call(self,x):\n",
    "            x = self.c1(x)\n",
    "            x = self.b1(x)\n",
    "            x = self.a1(x)\n",
    "            x = self.p1(x)\n",
    "            x = self.d1(x)\n",
    "            x = self.flatten(x)\n",
    "            x = self.f1(x)\n",
    "            x = self.d2(x)\n",
    "            y = self.f2(x)\n",
    "            return y\n",
    "            "
   ]
  },
  {
   "cell_type": "code",
   "execution_count": null,
   "metadata": {},
   "outputs": [],
   "source": []
  }
 ],
 "metadata": {
  "kernelspec": {
   "display_name": "Python 3",
   "language": "python",
   "name": "python3"
  },
  "language_info": {
   "codemirror_mode": {
    "name": "ipython",
    "version": 3
   },
   "file_extension": ".py",
   "mimetype": "text/x-python",
   "name": "python",
   "nbconvert_exporter": "python",
   "pygments_lexer": "ipython3",
   "version": "3.7.7"
  }
 },
 "nbformat": 4,
 "nbformat_minor": 4
}
