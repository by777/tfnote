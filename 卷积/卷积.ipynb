{
 "cells": [
  {
   "cell_type": "markdown",
   "metadata": {},
   "source": [
    "> 搭建CNN的口诀：CBAPD\n",
    "\n",
    "+ C（Conv：6*5*5，步长：1，填充：same）\n",
    "+ B（Batch Normalization）批标准化\n",
    "+ A（Activation）\n",
    "+ P（MaxPool,核：2\\*2，步长：2，填充：same）全0填充\n",
    "+ D（Dropout）dropout\n",
    "\n",
    "#### 搭建卷积神经网络示例\n",
    "\n",
    "+ Layer1 : 6个5 * 5的卷积核、过2 * 2的池化核、池化步长是2\n",
    "+ Layer2:Dense 128 （Flatten(),128,relu,Dropout=0.2）\n",
    "+ Layer3:Dense 10（10，softmax）\n",
    "\n",
    "##### eg.\n",
    "    \n",
    "    class Baseline(Model):\n",
    "        def __init__(self):\n",
    "            super(Baseline,self).__init__()\n",
    "            self.c1 = Conv2D(filters=6,kernel_size=(5,5),padding='same) # C\n",
    "            self.b1 = BatchNormalization() # B\n",
    "            self.a1 = Activation('relu') # A\n",
    "            self.p1 = MaxPool2D(pool_size=(2,2),strides=2,padding='same') # P\n",
    "            self.d1 = Dropout(0.2) # D\n",
    "            \n",
    "            self.flatten = Flatten()\n",
    "            self.f1 = Dense(128,activation=\"relu\")\n",
    "            self.d2 = Dropout(0.2)\n",
    "            self.f2 = Dense(10,activation=\"softmax\")\n",
    "            \n",
    "        def call(self,x):\n",
    "            x = self.c1(x)\n",
    "            x = self.b1(x)\n",
    "            x = self.a1(x)\n",
    "            x = self.p1(x)\n",
    "            x = self.d1(x)\n",
    "            x = self.flatten(x)\n",
    "            x = self.f1(x)\n",
    "            x = self.d2(x)\n",
    "            y = self.f2(x)\n",
    "            return y\n",
    "            "
   ]
  },
  {
   "cell_type": "markdown",
   "metadata": {},
   "source": [
    "### 卷积核\n",
    "    \n",
    "+ 输入特征图的深度（channel）决定卷积核的深度（要保持一致）\n",
    "+ 当前层卷积核的个数决定了当前层输出特征图的深度，如果你觉得某层模型的提取特征能力不足，可以提高个数\n"
   ]
  },
  {
   "cell_type": "markdown",
   "metadata": {},
   "source": [
    "### 感受野（Receptive Field）\n",
    "\n",
    "+ 感受野是指输出特征图中1个像素点，在原始输入图片上映射区域的大小\n",
    "+ 由于计算量的差别，常使用两层 3\\*3的卷积核替换一层5\\*5的卷积核"
   ]
  },
  {
   "cell_type": "markdown",
   "metadata": {},
   "source": [
    "### Padding\n",
    "\n",
    "+ same(全0填充)：输出特征图边长 = 输入特征图边长 / 步长 （向上取整）\n",
    "+ valid：输出特征图边长 =（ 输入特征图边长 - 核长 + 1） / 步长 （向上取整）\n",
    "\n",
    "$$①输出特征图边长=⌈⌉{ 输入特征图边长 \\over 步长}$$\n",
    "$$②输出特征图边长 =⌈⌉{ 输入特征图边长 - 核长 + 1 \\over 步长} $$"
   ]
  },
  {
   "cell_type": "markdown",
   "metadata": {},
   "source": [
    "### TF描述卷积层\n",
    "\n",
    "    tf.keras,Conv2D(\n",
    "        filters = 卷积核个数,\n",
    "        kernel_size = 卷积核尺寸,(正方形写核长整数，或者元组(h,w))\n",
    "        strides = 滑动步长同上,(正方形写核长整数，或者元组(h,w))\n",
    "        padding = \"same\" or \"valid（默认）\",\n",
    "        actication-\"relu\" or \"sigmoid\" or \"tanh\" or \"softmax\" # 如有BN此处不写\n",
    "        input_shape = (高，宽，通道数)# 输入特征图维度，可省略        \n",
    "    )"
   ]
  },
  {
   "cell_type": "markdown",
   "metadata": {},
   "source": [
    "### 批标准化（Batch Normalization）\n",
    "\n",
    "+ 标准化：0均值，1标准差的分布\n",
    "+ 批标准化：对一小批数据标准化\n",
    "+ <b>常用在卷积操作与激活操作之间</b>\n",
    "\n",
    "##### 作用：\n",
    "使进入到激活函数的特征值重新拉回到激活函数线性区"
   ]
  },
  {
   "cell_type": "markdown",
   "metadata": {},
   "source": [
    "### 池化\n",
    "\n",
    "用于减少卷积神经网络中特征数据量，默认步长和池化尺寸一样\n",
    "\n",
    "+ 最大池化：可以提取图片纹理\n",
    "+ 均值池化：保留背景特征"
   ]
  },
  {
   "cell_type": "code",
   "execution_count": null,
   "metadata": {},
   "outputs": [],
   "source": []
  }
 ],
 "metadata": {
  "kernelspec": {
   "display_name": "Python 3",
   "language": "python",
   "name": "python3"
  },
  "language_info": {
   "codemirror_mode": {
    "name": "ipython",
    "version": 3
   },
   "file_extension": ".py",
   "mimetype": "text/x-python",
   "name": "python",
   "nbconvert_exporter": "python",
   "pygments_lexer": "ipython3",
   "version": "3.7.7"
  }
 },
 "nbformat": 4,
 "nbformat_minor": 4
}
