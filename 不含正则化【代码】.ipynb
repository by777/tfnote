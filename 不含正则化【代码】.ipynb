{
 "cells": [
  {
   "cell_type": "code",
   "execution_count": 1,
   "metadata": {},
   "outputs": [],
   "source": [
    "import numpy as np\n",
    "from matplotlib import pyplot as plt\n",
    "import pandas as pd\n",
    "import tensorflow as tf"
   ]
  },
  {
   "cell_type": "code",
   "execution_count": 2,
   "metadata": {},
   "outputs": [],
   "source": [
    "# 读入数据\n",
    "df = pd.read_csv('./csv/dot.csv')\n",
    "x_data = np.array(df[['x1','x2']])\n",
    "y_data = np.array(df['y_c'])\n",
    "# 组新的shape属性应该要与原来的配套，如果等于-1的话，那么Numpy会根据剩下的维度计算出数组的另外一个shape属性值。\n",
    "x_train = np.vstack(x_data).reshape(-1,2)\n",
    "y_train = np.vstack(y_data).reshape(-1,1)\n",
    "\n",
    "Y_c = [['red' if y else 'blue'] for y in y_train]\n",
    "\n",
    "# 转换x的数据类型，否则后面矩阵相乘时会因数据类型问题报错\n",
    "x_train = tf.cast(x_train,tf.float32)\n",
    "y_train = tf.cast(y_train,tf.float32)\n",
    "train_db = tf.data.Dataset.from_tensor_slices((x_train,y_train)).batch(32)\n"
   ]
  },
  {
   "cell_type": "code",
   "execution_count": 3,
   "metadata": {},
   "outputs": [],
   "source": [
    "# 生成神经网络的参数、输入层为2个神经元、隐藏层为11个神经元、1层隐藏层，输出层为1个神经元\n",
    "# 用tf.Variable可保证参数可训练"
   ]
  },
  {
   "cell_type": "code",
   "execution_count": 4,
   "metadata": {},
   "outputs": [],
   "source": [
    "# 因为有两个输入特征，所以第一层神经网络所以[2,11]第一个参数是2 \n",
    "# 11 要与下一层的输入【11，1】对相应\n",
    "w1 = tf.Variable(tf.random.normal([2,11]),dtype=tf.float32)\n",
    "b1 = tf.Variable(tf.constant(0.01,shape=[11]))\n",
    "\n",
    "# 神经网络的输出节点的个数要与标签一样，数据集中每一组x1 x2对应一个标签\n",
    "# 要求【11，1】的1要与b的shape【1】一样\n",
    "w2 = tf.Variable(tf.random.normal([11,1]),dtype=tf.float32)\n",
    "b2 = tf.Variable(tf.constant(0.01,shape=[1]))\n",
    "\n",
    "lr = 0.005\n",
    "epoch = 800\n",
    "\n"
   ]
  },
  {
   "cell_type": "code",
   "execution_count": 5,
   "metadata": {},
   "outputs": [
    {
     "name": "stdout",
     "output_type": "stream",
     "text": [
      "epoch: 0 loss: tf.Tensor(5.1680636, shape=(), dtype=float32)\n",
      "epoch: 20 loss: tf.Tensor(0.15608537, shape=(), dtype=float32)\n",
      "epoch: 40 loss: tf.Tensor(0.07839969, shape=(), dtype=float32)\n",
      "epoch: 60 loss: tf.Tensor(0.058206607, shape=(), dtype=float32)\n",
      "epoch: 80 loss: tf.Tensor(0.04817142, shape=(), dtype=float32)\n",
      "epoch: 100 loss: tf.Tensor(0.04213074, shape=(), dtype=float32)\n",
      "epoch: 120 loss: tf.Tensor(0.038391005, shape=(), dtype=float32)\n",
      "epoch: 140 loss: tf.Tensor(0.035895113, shape=(), dtype=float32)\n",
      "epoch: 160 loss: tf.Tensor(0.0344567, shape=(), dtype=float32)\n",
      "epoch: 180 loss: tf.Tensor(0.033197567, shape=(), dtype=float32)\n",
      "epoch: 200 loss: tf.Tensor(0.032509524, shape=(), dtype=float32)\n",
      "epoch: 220 loss: tf.Tensor(0.03216817, shape=(), dtype=float32)\n",
      "epoch: 240 loss: tf.Tensor(0.03199657, shape=(), dtype=float32)\n",
      "epoch: 260 loss: tf.Tensor(0.03186363, shape=(), dtype=float32)\n",
      "epoch: 280 loss: tf.Tensor(0.03180148, shape=(), dtype=float32)\n",
      "epoch: 300 loss: tf.Tensor(0.031783212, shape=(), dtype=float32)\n",
      "epoch: 320 loss: tf.Tensor(0.031581152, shape=(), dtype=float32)\n",
      "epoch: 340 loss: tf.Tensor(0.031229323, shape=(), dtype=float32)\n",
      "epoch: 360 loss: tf.Tensor(0.030898407, shape=(), dtype=float32)\n",
      "epoch: 380 loss: tf.Tensor(0.030600647, shape=(), dtype=float32)\n",
      "epoch: 400 loss: tf.Tensor(0.030338695, shape=(), dtype=float32)\n",
      "epoch: 420 loss: tf.Tensor(0.030121231, shape=(), dtype=float32)\n",
      "epoch: 440 loss: tf.Tensor(0.029904833, shape=(), dtype=float32)\n",
      "epoch: 460 loss: tf.Tensor(0.029692953, shape=(), dtype=float32)\n",
      "epoch: 480 loss: tf.Tensor(0.029486666, shape=(), dtype=float32)\n",
      "epoch: 500 loss: tf.Tensor(0.029295927, shape=(), dtype=float32)\n",
      "epoch: 520 loss: tf.Tensor(0.02912519, shape=(), dtype=float32)\n",
      "epoch: 540 loss: tf.Tensor(0.028960826, shape=(), dtype=float32)\n",
      "epoch: 560 loss: tf.Tensor(0.02882415, shape=(), dtype=float32)\n",
      "epoch: 580 loss: tf.Tensor(0.028637841, shape=(), dtype=float32)\n",
      "epoch: 600 loss: tf.Tensor(0.028422887, shape=(), dtype=float32)\n",
      "epoch: 620 loss: tf.Tensor(0.028216377, shape=(), dtype=float32)\n",
      "epoch: 640 loss: tf.Tensor(0.028015831, shape=(), dtype=float32)\n",
      "epoch: 660 loss: tf.Tensor(0.027831817, shape=(), dtype=float32)\n",
      "epoch: 680 loss: tf.Tensor(0.027661344, shape=(), dtype=float32)\n",
      "epoch: 700 loss: tf.Tensor(0.027533403, shape=(), dtype=float32)\n",
      "epoch: 720 loss: tf.Tensor(0.02741243, shape=(), dtype=float32)\n",
      "epoch: 740 loss: tf.Tensor(0.027312288, shape=(), dtype=float32)\n",
      "epoch: 760 loss: tf.Tensor(0.027221715, shape=(), dtype=float32)\n",
      "epoch: 780 loss: tf.Tensor(0.027135625, shape=(), dtype=float32)\n"
     ]
    }
   ],
   "source": [
    "# epoch是对数据集的循环计数、step是对batch的循环计数\n",
    "for epoch in range(epoch):\n",
    "    for step, (x_train,y_train) in enumerate(train_db):\n",
    "        \n",
    "        # 在with结构中完成前向传播\n",
    "        with tf.GradientTape() as tape:\n",
    "            h1 = tf.matmul(x_train,w1) +b1\n",
    "            h1 = tf.nn.relu(h1)\n",
    "            y = tf.matmul(h1,w2) + b2\n",
    "            \n",
    "            # 采用均方差计算损失函数\n",
    "            loss = tf.reduce_mean(tf.square(y_train - y))\n",
    "            \n",
    "        # 计算loss对各个参数的梯度\n",
    "        # 损失函数分别对w1 b1 w2 b2求偏导数\n",
    "        variables = [w1,b1,w2,b2]\n",
    "        grads = tape.gradient(loss,variables)\n",
    "        \n",
    "        # 实现梯度更新\n",
    "        # w1 = w1 - lr * w1_grad\n",
    "        # tape.gradient是自动求导结果与[w1,b1,w2,b2]，索引为0 1 2 3\n",
    "        w1.assign_sub(lr * grads[0])\n",
    "        b1.assign_sub(lr * grads[1])\n",
    "        w2.assign_sub(lr * grads[2])\n",
    "        b2.assign_sub(lr * grads[3])\n",
    "    # 每20个epoch，打印loss信息\n",
    "    if epoch % 20 == 0:\n",
    "        print(\"epoch:\",epoch,\"loss:\",loss)"
   ]
  },
  {
   "cell_type": "code",
   "execution_count": 7,
   "metadata": {},
   "outputs": [
    {
     "name": "stdout",
     "output_type": "stream",
     "text": [
      "************Predict***********\n",
      "\n"
     ]
    }
   ],
   "source": [
    "# 预测部分\n",
    "print(\"************Predict***********\\n\")\n",
    "# xx在-3到3之间步长为0.01 ，yy在-3到3之间步长为0.01生成间隔点\n",
    "xx,yy = np.mgrid[-3:3:.1,-3:3:.1]\n",
    "#将xx yy拉直并配对为二维张量\n",
    "grid = np.c_[xx.ravel(),yy.ravel()]\n",
    "grid = tf.cast(grid,tf.float32)\n",
    "\n",
    "# 将网格坐标点喂入神经网络，进行预测，probs为输出"
   ]
  },
  {
   "cell_type": "code",
   "execution_count": 9,
   "metadata": {},
   "outputs": [],
   "source": [
    "probs = []\n",
    "for x_test in grid:\n",
    "    #使用训练好的参数预测\n",
    "    h1 = tf.matmul([x_test],w1) + b1\n",
    "    h1 = tf.nn.relu(h1)\n",
    "    y = tf.matmul(h1,w2) + b2\n",
    "    probs.append(y)"
   ]
  },
  {
   "cell_type": "code",
   "execution_count": 10,
   "metadata": {},
   "outputs": [],
   "source": [
    "# 取第0列给x1 第1列给x2\n",
    "# 冒号表示切片，逗号表示维度\n",
    "x1 = x_data[:,0]\n",
    "x2 = x_data[:,1]"
   ]
  },
  {
   "cell_type": "code",
   "execution_count": 13,
   "metadata": {},
   "outputs": [
    {
     "data": {
      "text/plain": [
       "numpy.ndarray"
      ]
     },
     "execution_count": 13,
     "metadata": {},
     "output_type": "execute_result"
    }
   ],
   "source": [
    "type(x1)"
   ]
  },
  {
   "cell_type": "code",
   "execution_count": 15,
   "metadata": {},
   "outputs": [
    {
     "data": {
      "image/png": "[encoded data removed]",
      "text/plain": [
       "<Figure size 432x288 with 1 Axes>"
      ]
     },
     "metadata": {
      "needs_background": "light"
     },
     "output_type": "display_data"
    }
   ],
   "source": [
    "# probs的shape调整为xx的样子\n",
    "probs = np.array(probs).reshape(xx.shape)\n",
    "# squeeze 函数：从数组的形状中删除单维度条目，即把shape中为1的维度去掉\n",
    "# 相当于去掉[['red'],[''blue]],内层括号变为['red','blue']\n",
    "plt.scatter(x1,x2,color=np.squeeze(Y_c))\n",
    "# 画出预测值为y的曲线\n",
    "# contour() 函数绘制等高线，调用 contourf() 函数为等高线图填充颜色。\n",
    "plt.contour(xx,yy,probs,levels=[.5])\n",
    "plt.show()"
   ]
  },
  {
   "cell_type": "code",
   "execution_count": 18,
   "metadata": {},
   "outputs": [],
   "source": [
    "#print(x_data.shape)"
   ]
  },
  {
   "cell_type": "code",
   "execution_count": 19,
   "metadata": {},
   "outputs": [],
   "source": [
    "# print(x_data)"
   ]
  },
  {
   "cell_type": "code",
   "execution_count": null,
   "metadata": {},
   "outputs": [],
   "source": []
  }
 ],
 "metadata": {
  "kernelspec": {
   "display_name": "Python 3",
   "language": "python",
   "name": "python3"
  },
  "language_info": {
   "codemirror_mode": {
    "name": "ipython",
    "version": 3
   },
   "file_extension": ".py",
   "mimetype": "text/x-python",
   "name": "python",
   "nbconvert_exporter": "python",
   "pygments_lexer": "ipython3",
   "version": "3.7.7"
  }
 },
 "nbformat": 4,
 "nbformat_minor": 4
}
