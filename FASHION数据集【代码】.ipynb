{
 "cells": [
  {
   "cell_type": "markdown",
   "metadata": {},
   "source": [
    "> fashion数据集提供6万张28*28像素点的衣裤等图片和标签用于训练，1万张28*28像素点的衣裤等图片和标签用于测试\n",
    "\n",
    "导入FASHION数据集：\n",
    "\n",
    "    fashion = tf.keras.datasets.fashion_mnist\n",
    "    (x_train,y_train),(x_test,y_test) = fashion_mnist.load_data()\n",
    "    \n",
    "|Label(0~9)    Description|\n",
    "\n",
    "|0      T恤（T-shirt/top）|\n",
    "\n",
    "|1      裤子（Trouser）|\n",
    "    "
   ]
  },
  {
   "cell_type": "code",
   "execution_count": 1,
   "metadata": {},
   "outputs": [
    {
     "name": "stdout",
     "output_type": "stream",
     "text": [
      "Downloading data from https://storage.googleapis.com/tensorflow/tf-keras-datasets/train-labels-idx1-ubyte.gz\n",
      "32768/29515 [=================================] - 1s 17us/step\n",
      "Downloading data from https://storage.googleapis.com/tensorflow/tf-keras-datasets/train-images-idx3-ubyte.gz\n",
      "26427392/26421880 [==============================] - 66s 2us/step\n",
      "Downloading data from https://storage.googleapis.com/tensorflow/tf-keras-datasets/t10k-labels-idx1-ubyte.gz\n",
      "8192/5148 [===============================================] - 0s 0s/step\n",
      "Downloading data from https://storage.googleapis.com/tensorflow/tf-keras-datasets/t10k-images-idx3-ubyte.gz\n",
      "4423680/4422102 [==============================] - 13s 3us/step\n",
      "Train on 60000 samples, validate on 10000 samples\n",
      "Epoch 1/10\n",
      "60000/60000 [==============================] - 3s 50us/sample - loss: 0.4949 - sparse_categorical_accuracy: 0.8264 - val_loss: 0.4205 - val_sparse_categorical_accuracy: 0.8518\n",
      "Epoch 2/10\n",
      "60000/60000 [==============================] - 3s 45us/sample - loss: 0.3662 - sparse_categorical_accuracy: 0.8674 - val_loss: 0.3786 - val_sparse_categorical_accuracy: 0.8621\n",
      "Epoch 3/10\n",
      "60000/60000 [==============================] - 3s 47us/sample - loss: 0.3314 - sparse_categorical_accuracy: 0.8786 - val_loss: 0.3634 - val_sparse_categorical_accuracy: 0.8704\n",
      "Epoch 4/10\n",
      "60000/60000 [==============================] - 3s 44us/sample - loss: 0.3065 - sparse_categorical_accuracy: 0.8880 - val_loss: 0.3426 - val_sparse_categorical_accuracy: 0.8764\n",
      "Epoch 5/10\n",
      "60000/60000 [==============================] - 3s 45us/sample - loss: 0.2910 - sparse_categorical_accuracy: 0.8916 - val_loss: 0.3592 - val_sparse_categorical_accuracy: 0.8722\n",
      "Epoch 6/10\n",
      "60000/60000 [==============================] - 3s 45us/sample - loss: 0.2765 - sparse_categorical_accuracy: 0.8967 - val_loss: 0.3430 - val_sparse_categorical_accuracy: 0.8769\n",
      "Epoch 7/10\n",
      "60000/60000 [==============================] - 3s 48us/sample - loss: 0.2640 - sparse_categorical_accuracy: 0.9016 - val_loss: 0.3482 - val_sparse_categorical_accuracy: 0.8788\n",
      "Epoch 8/10\n",
      "60000/60000 [==============================] - 3s 47us/sample - loss: 0.2543 - sparse_categorical_accuracy: 0.9057 - val_loss: 0.3323 - val_sparse_categorical_accuracy: 0.8806\n",
      "Epoch 9/10\n",
      "60000/60000 [==============================] - 3s 48us/sample - loss: 0.2442 - sparse_categorical_accuracy: 0.9097 - val_loss: 0.3270 - val_sparse_categorical_accuracy: 0.8846\n",
      "Epoch 10/10\n",
      "60000/60000 [==============================] - 3s 47us/sample - loss: 0.2331 - sparse_categorical_accuracy: 0.9122 - val_loss: 0.3378 - val_sparse_categorical_accuracy: 0.8853\n",
      "Model: \"sequential\"\n",
      "_________________________________________________________________\n",
      "Layer (type)                 Output Shape              Param #   \n",
      "=================================================================\n",
      "flatten (Flatten)            multiple                  0         \n",
      "_________________________________________________________________\n",
      "dense (Dense)                multiple                  100480    \n",
      "_________________________________________________________________\n",
      "dense_1 (Dense)              multiple                  1290      \n",
      "=================================================================\n",
      "Total params: 101,770\n",
      "Trainable params: 101,770\n",
      "Non-trainable params: 0\n",
      "_________________________________________________________________\n"
     ]
    }
   ],
   "source": [
    "import tensorflow as tf\n",
    "from tensorflow.keras.layers import Flatten\n",
    "from tensorflow.keras.layers import Dense\n",
    "\n",
    "from tensorflow.keras.losses import SparseCategoricalCrossentropy\n",
    "\n",
    "from tensorflow.keras.datasets import fashion_mnist\n",
    "\n",
    "(x_train,y_train),(x_test,y_test) = fashion_mnist.load_data()\n",
    "x_train,x_test = x_train / 255.0 ,x_test / 255.0\n",
    "\n",
    "model = tf.keras.Sequential([\n",
    "    Flatten(),\n",
    "    Dense(128,activation=\"relu\"),\n",
    "    Dense(10,activation=\"softmax\")\n",
    "])\n",
    "\n",
    "model.compile(optimizer=\"adam\",loss=SparseCategoricalCrossentropy(from_logits=False),metrics=['sparse_categorical_accuracy'])\n",
    "model.fit(x_train,y_train,batch_size=32,epochs=10,validation_data=(x_test,y_test),validation_freq=1)\n",
    "model.summary()"
   ]
  },
  {
   "cell_type": "code",
   "execution_count": null,
   "metadata": {},
   "outputs": [],
   "source": []
  }
 ],
 "metadata": {
  "kernelspec": {
   "display_name": "Python 3",
   "language": "python",
   "name": "python3"
  },
  "language_info": {
   "codemirror_mode": {
    "name": "ipython",
    "version": 3
   },
   "file_extension": ".py",
   "mimetype": "text/x-python",
   "name": "python",
   "nbconvert_exporter": "python",
   "pygments_lexer": "ipython3",
   "version": "3.7.7"
  }
 },
 "nbformat": 4,
 "nbformat_minor": 4
}
