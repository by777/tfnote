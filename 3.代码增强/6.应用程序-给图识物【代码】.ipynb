{
 "cells": [
  {
   "cell_type": "markdown",
   "metadata": {},
   "source": [
    "#### predict(输入特征,batch_size=整数)返回前向传播计算结果\n",
    "\n",
    "##### eg.\n",
    "    model = Sequential([...])\n",
    "    model.load_weights(...)\n",
    "    # 预测结果\n",
    "    result = model.predict(x_predict)\n",
    "    \n",
    "    # 读取待识别的图片文件：\n",
    "    img = Image.open(image_path)\n",
    "    '''\n",
    "    Image.NEAREST ：低质量\n",
    "    Image.BILINEAR：双线性\n",
    "    Image.BICUBIC ：三次样条插值\n",
    "    Image.ANTIALIAS：高质量\n",
    "    '''\n",
    "    img = img.resize((28,28),Image.ANTIALIAS)\n",
    "    img_arr = np.array(img.aconvert('L'))\n",
    "    \n",
    "    # 颜色取反，与训练保持一致\n",
    "    # 应用程序的输入图片是白底黑字，但是训练模型是黑底白字\n",
    "    img_arr = 255 - img_arr\n",
    "    img_arr = img_arr / 255.\n",
    "    \n",
    "    # 由于神经网络训练时是按照batch送入网络的，所以进入predict函数前，要把img_arr\n",
    "    # 前面增加一个维度\n",
    "    x_predict = img_arr[tf.newaxis,...]\n",
    "    result = model.predict(x_predict)\n",
    "    # 最大的预测概率值\n",
    "    pred = tf.argmax(result,axis=1)\n",
    "    print(\"\\n\")\n",
    "    tf.print(pred)"
   ]
  },
  {
   "cell_type": "markdown",
   "metadata": {},
   "source": [
    "预处理方法二：\n",
    "\n",
    "    for i in range(28):\n",
    "        for j in range(28):\n",
    "            if img_arr[i][j] < 200:\n",
    "                img_arr[i][j] = 255\n",
    "            else：\n",
    "                img[i][j] = 0\n",
    "    "
   ]
  },
  {
   "cell_type": "code",
   "execution_count": 1,
   "metadata": {},
   "outputs": [],
   "source": [
    "import numpy as np\n",
    "import tensorflow as tf\n",
    "from tensorflow.keras.layers import Flatten\n",
    "from tensorflow.keras.layers import Dense\n",
    "from PIL import Image"
   ]
  },
  {
   "cell_type": "code",
   "execution_count": null,
   "metadata": {},
   "outputs": [
    {
     "name": "stdout",
     "output_type": "stream",
     "text": [
      "请输入要识别几张图片：3\n",
      "请输入图片路径2.png\n",
      "\n",
      "\n",
      "[2]\n"
     ]
    }
   ],
   "source": [
    "model_save_path = \"./checkpoint/mnist.ckpt\"\n",
    "\n",
    "model = tf.keras.Sequential([\n",
    "    Flatten(),\n",
    "    Dense(128,activation=\"relu\"),\n",
    "    Dense(10,activation=\"softmax\")\n",
    "])\n",
    "\n",
    "model.load_weights(model_save_path)\n",
    "preNum = int(input(\"请输入要识别几张图片：\"))\n",
    "\n",
    "for i in range(preNum):\n",
    "    image_path = input(\"请输入图片路径\")\n",
    "    img = Image.open(image_path)\n",
    "    \n",
    "    img = img.resize((28,28),Image.ANTIALIAS)\n",
    "    img_arr = np.array(img.convert('L'))\n",
    "    \n",
    "    for i in range(28):\n",
    "        for j in range(28):\n",
    "            if img_arr[i][j] < 200:\n",
    "                img_arr[i][j] = 255\n",
    "            else:\n",
    "                img_arr[i][j] = 0\n",
    "    \n",
    "    img_arr = img_arr / 255.\n",
    "    # 是省略所有的冒号来用省略号代替\n",
    "    # a[:, :, None]和a[…, None]是一样的，就是因为…代替了前面两个冒号\n",
    "    x_predict = img_arr[tf.newaxis,...]\n",
    "    result = model.predict(x_predict)\n",
    "    pred = tf.argmax(result,axis=1)\n",
    "    print(\"\\n\")\n",
    "    tf.print(pred)\n",
    "    \n"
   ]
  },
  {
   "cell_type": "code",
   "execution_count": null,
   "metadata": {},
   "outputs": [],
   "source": []
  },
  {
   "cell_type": "code",
   "execution_count": null,
   "metadata": {},
   "outputs": [],
   "source": []
  }
 ],
 "metadata": {
  "kernelspec": {
   "display_name": "Python 3",
   "language": "python",
   "name": "python3"
  },
  "language_info": {
   "codemirror_mode": {
    "name": "ipython",
    "version": 3
   },
   "file_extension": ".py",
   "mimetype": "text/x-python",
   "name": "python",
   "nbconvert_exporter": "python",
   "pygments_lexer": "ipython3",
   "version": "3.7.7"
  }
 },
 "nbformat": 4,
 "nbformat_minor": 4
}
