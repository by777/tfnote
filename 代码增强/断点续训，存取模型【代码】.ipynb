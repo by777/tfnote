{
 "cells": [
  {
   "cell_type": "markdown",
   "metadata": {},
   "source": [
    "#### 读取模型\n",
    "\n",
    "    load_weights(路径文件名)\n",
    "    checkpoint_save_path = \"./checkpoint/mnist.ckpt\"\n",
    "    if os.path.exits(checkpoint_save_path + '.index'):\n",
    "        print(\"---------load the model ------\")\n",
    "        model.load_weights(checkpoint_save_path)\n",
    "        \n",
    "#### 保存模型\n",
    "\n",
    "    cp_callback = tf.keras.callbacks.ModelCheckpoint(\n",
    "        filepath = 路径文件名,\n",
    "        save_weight_only = True(False),#是否只保留模型参数\n",
    "        save_best_only = True(False)     \n",
    "    )\n",
    "    history = model.fit(callbacks=[cp_callback]"
   ]
  },
  {
   "cell_type": "code",
   "execution_count": 1,
   "metadata": {},
   "outputs": [],
   "source": [
    "import tensorflow as tf\n",
    "import os\n",
    "from tensorflow.keras.layers import Flatten\n",
    "from tensorflow.keras.layers import Dense\n",
    "from tensorflow.keras.losses import SparseCategoricalCrossentropy\n",
    "from tensorflow.keras.preprocessing.image import ImageDataGenerator\n",
    "from tensorflow.keras.datasets import mnist"
   ]
  },
  {
   "cell_type": "code",
   "execution_count": 2,
   "metadata": {},
   "outputs": [],
   "source": [
    "(x_train,y_train),(x_test,y_test) = mnist.load_data()\n",
    "x_train,x_test= x_train / 255. ,x_test / 255."
   ]
  },
  {
   "cell_type": "code",
   "execution_count": 5,
   "metadata": {},
   "outputs": [
    {
     "name": "stdout",
     "output_type": "stream",
     "text": [
      "./checkpoint/mnist/ckpt.index\n",
      "---------- load the model ----------\n",
      "Train on 60000 samples, validate on 10000 samples\n",
      "Epoch 1/5\n",
      "60000/60000 [==============================] - 3s 54us/sample - loss: 0.0156 - sparse_categorical_accuracy: 0.9953 - val_loss: 0.0934 - val_sparse_categorical_accuracy: 0.9749\n",
      "Epoch 2/5\n",
      "60000/60000 [==============================] - 3s 52us/sample - loss: 0.0142 - sparse_categorical_accuracy: 0.9957 - val_loss: 0.0907 - val_sparse_categorical_accuracy: 0.9771\n",
      "Epoch 3/5\n",
      "60000/60000 [==============================] - 3s 47us/sample - loss: 0.0130 - sparse_categorical_accuracy: 0.9959 - val_loss: 0.0826 - val_sparse_categorical_accuracy: 0.9800\n",
      "Epoch 4/5\n",
      "60000/60000 [==============================] - 3s 53us/sample - loss: 0.0101 - sparse_categorical_accuracy: 0.9968 - val_loss: 0.0898 - val_sparse_categorical_accuracy: 0.9781\n",
      "Epoch 5/5\n",
      "60000/60000 [==============================] - 3s 52us/sample - loss: 0.0092 - sparse_categorical_accuracy: 0.9970 - val_loss: 0.0896 - val_sparse_categorical_accuracy: 0.9782\n",
      "Model: \"sequential_2\"\n",
      "_________________________________________________________________\n",
      "Layer (type)                 Output Shape              Param #   \n",
      "=================================================================\n",
      "flatten_2 (Flatten)          multiple                  0         \n",
      "_________________________________________________________________\n",
      "dense_4 (Dense)              multiple                  100480    \n",
      "_________________________________________________________________\n",
      "dense_5 (Dense)              multiple                  1290      \n",
      "=================================================================\n",
      "Total params: 101,770\n",
      "Trainable params: 101,770\n",
      "Non-trainable params: 0\n",
      "_________________________________________________________________\n"
     ]
    }
   ],
   "source": [
    "model = tf.keras.Sequential([\n",
    "    Flatten(),\n",
    "    Dense(128,activation=\"relu\"),\n",
    "    Dense(10,activation=\"softmax\")\n",
    "])\n",
    "\n",
    "model.compile(optimizer=\"adam\",loss=SparseCategoricalCrossentropy(from_logits=False),metrics=['sparse_categorical_accuracy'])\n",
    "\n",
    "checkpoint_save_path = \"./checkpoint/mnist/ckpt\"\n",
    "if os.path.exists(checkpoint_save_path+'.index'):\n",
    "    print(checkpoint_save_path+'.index')\n",
    "    print(\"---------- load the model ----------\")\n",
    "    model.load_weights(checkpoint_save_path)\n",
    "cp_callback = tf.keras.callbacks.ModelCheckpoint(filepath=checkpoint_save_path,\n",
    "                                                 save_weights_only=True,\n",
    "                                                 save_best_only=True)\n",
    "history = model.fit(x_train,y_train,batch_size=32,epochs=5,validation_data=(x_test,y_test),validation_freq=1,\n",
    "                   callbacks=[cp_callback])\n",
    "model.summary()\n",
    "# 第二次运行的准确率实在第一次保存模型的基础上继续提升的"
   ]
  },
  {
   "cell_type": "code",
   "execution_count": null,
   "metadata": {},
   "outputs": [],
   "source": []
  }
 ],
 "metadata": {
  "kernelspec": {
   "display_name": "Python 3",
   "language": "python",
   "name": "python3"
  },
  "language_info": {
   "codemirror_mode": {
    "name": "ipython",
    "version": 3
   },
   "file_extension": ".py",
   "mimetype": "text/x-python",
   "name": "python",
   "nbconvert_exporter": "python",
   "pygments_lexer": "ipython3",
   "version": "3.7.7"
  }
 },
 "nbformat": 4,
 "nbformat_minor": 4
}
