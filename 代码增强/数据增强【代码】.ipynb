{
 "cells": [
  {
   "cell_type": "markdown",
   "metadata": {},
   "source": [
    "> 用于增大数据量\n",
    "\n",
    "##### 增大数据量：\n",
    "\n",
    "    image_gen_train = tf.keras.preprocessing.image.ImageDataGenerator(\n",
    "        rescale = 所有数据乘以该数值,\n",
    "        rotation_range = 随机旋转角度数范围,\n",
    "        width_shift_range = 随机宽度偏移量,\n",
    "        height_shift_range = 随机高度偏移量,\n",
    "        水平翻转：horizontal_flip = 是否随机水平翻转\n",
    "        随机缩放：zoom_range = 随机缩放的范围(比例)[1-n,1+n]        \n",
    "    )\n",
    "    image_gen_train.fit(x_train)\n",
    "    \n",
    "如：\n",
    "\n",
    "    image_gen_train = ImageDataGenerator(\n",
    "        rescale = 1. / 1. # 如果为图像，分母为255时可以归一化\n",
    "        rotation_range = 45,\n",
    "        width_shift_range = .15\n",
    "        height_shift_range = .15\n",
    "        horizontal_flip = False\n",
    "        zoom_range = 0.5\n",
    "    )\n",
    "    image_gen_train.fit(x_train)\n",
    "    \n",
    "然后需要对x_train进行reshape\n",
    "    \n",
    "    x_train = x_train.shape(x_train.shape[0],28,28,1)\n",
    "    # (60000,28,28) => (60000,28,28,1)变为单通道，1是灰度值\n",
    "    # model.fit()同步调整\n",
    "    model.fit(image_gen_train.flow(x_train,y_train,batch_size=32),.....)\n",
    "\n"
   ]
  },
  {
   "cell_type": "code",
   "execution_count": 5,
   "metadata": {},
   "outputs": [],
   "source": [
    "import tensorflow as tf\n",
    "from tensorflow.keras.layers import Flatten\n",
    "from tensorflow.keras.layers import Dense\n",
    "from tensorflow.keras.losses import SparseCategoricalCrossentropy\n",
    "from tensorflow.keras.preprocessing.image import ImageDataGenerator\n",
    "from tensorflow.keras.datasets import fashion_mnist\n"
   ]
  },
  {
   "cell_type": "code",
   "execution_count": 9,
   "metadata": {},
   "outputs": [
    {
     "name": "stdout",
     "output_type": "stream",
     "text": [
      "Train for 1875 steps, validate on 10000 samples\n",
      "Epoch 1/5\n",
      "1875/1875 [==============================] - 16s 8ms/step - loss: 1.5167 - sparse_categorical_accuracy: 0.4552 - val_loss: 1.0500 - val_sparse_categorical_accuracy: 0.6141\n",
      "Epoch 2/5\n",
      "1875/1875 [==============================] - 16s 8ms/step - loss: 1.2844 - sparse_categorical_accuracy: 0.5368 - val_loss: 0.9039 - val_sparse_categorical_accuracy: 0.6565\n",
      "Epoch 3/5\n",
      "1875/1875 [==============================] - 15s 8ms/step - loss: 1.2054 - sparse_categorical_accuracy: 0.5634 - val_loss: 0.9068 - val_sparse_categorical_accuracy: 0.6683\n",
      "Epoch 4/5\n",
      "1875/1875 [==============================] - 15s 8ms/step - loss: 1.1596 - sparse_categorical_accuracy: 0.5783 - val_loss: 0.8654 - val_sparse_categorical_accuracy: 0.6693\n",
      "Epoch 5/5\n",
      "1875/1875 [==============================] - 15s 8ms/step - loss: 1.1234 - sparse_categorical_accuracy: 0.5929 - val_loss: 0.8270 - val_sparse_categorical_accuracy: 0.6797\n",
      "Model: \"sequential\"\n",
      "_________________________________________________________________\n",
      "Layer (type)                 Output Shape              Param #   \n",
      "=================================================================\n",
      "flatten (Flatten)            multiple                  0         \n",
      "_________________________________________________________________\n",
      "dense (Dense)                multiple                  100480    \n",
      "_________________________________________________________________\n",
      "dense_1 (Dense)              multiple                  1290      \n",
      "=================================================================\n",
      "Total params: 101,770\n",
      "Trainable params: 101,770\n",
      "Non-trainable params: 0\n",
      "_________________________________________________________________\n"
     ]
    }
   ],
   "source": [
    "(x_train,y_train),(x_test,y_test) = fashion_mnist.load_data()\n",
    "x_train,x_test = x_train / 255. , x_test / 255.\n",
    "# 给数据增加一个维度，使得数据和网格结构相匹配\n",
    "x_train = x_train.reshape(x_train.shape[0],28,28,1)\n",
    "img_gen_train = ImageDataGenerator(rescale=1. /1.,\n",
    "                                  rotation_range=45,\n",
    "                                  width_shift_range=.15,\n",
    "                                  height_shift_range=.15,\n",
    "                                  horizontal_flip=True,\n",
    "                                  zoom_range=0.5)\n",
    "\n",
    "img_gen_train.fit(x_train)\n",
    "\n",
    "model = tf.keras.Sequential([\n",
    "    Flatten(),\n",
    "    Dense(128,activation=\"relu\"),\n",
    "    Dense(10,activation=\"softmax\")\n",
    "])\n",
    "\n",
    "model.compile(optimizer=\"adam\",\n",
    "              loss=SparseCategoricalCrossentropy(from_logits=False),metrics=['sparse_categorical_accuracy'])\n",
    "\n",
    "model.fit(img_gen_train.flow(x_train,y_train,batch_size=32),epochs=5,validation_data=(x_test,y_test),\n",
    "          validation_freq=1)\n",
    "model.summary()"
   ]
  },
  {
   "cell_type": "code",
   "execution_count": null,
   "metadata": {},
   "outputs": [],
   "source": []
  }
 ],
 "metadata": {
  "kernelspec": {
   "display_name": "Python 3",
   "language": "python",
   "name": "python3"
  },
  "language_info": {
   "codemirror_mode": {
    "name": "ipython",
    "version": 3
   },
   "file_extension": ".py",
   "mimetype": "text/x-python",
   "name": "python",
   "nbconvert_exporter": "python",
   "pygments_lexer": "ipython3",
   "version": "3.7.7"
  }
 },
 "nbformat": 4,
 "nbformat_minor": 4
}
