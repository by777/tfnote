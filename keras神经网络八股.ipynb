{
 "cells": [
  {
   "cell_type": "markdown",
   "metadata": {},
   "source": [
    "# 六步法\n",
    "1. import\n",
    "2. train,test\n",
    "3. model = tf.keras.models.Sequential# 网络结构\n",
    "4. model.compile#配置训练方法，优化函数，loss，评测指标\n",
    "5. model.fit# 执行训练过程，告知训练集和测试集的输入特征和标签,batch、迭代次数\n",
    "6. model.summary#打印网络的结构和参数统计"
   ]
  },
  {
   "cell_type": "markdown",
   "metadata": {},
   "source": [
    "# 3.model = tf.keras.models.Sequential([网络结构])\n",
    "\n",
    "\n",
    "### 网络结构举例\n",
    "\n",
    "#### 拉直层：tf.keras.layers.Flatten()\n",
    "#### LSTM层：tf.keras.layers.LSTM()\n",
    "#### 卷积层：tf.keras.layers.Conv2D(filters=卷积核个数,kernel_size=卷积核尺寸,strides=卷积步长,padding=\"valid\" or \"same\")\n",
    "\n",
    "#### 全连接层：tf.keras.layers.Dense(神经元个数,activation='激活函数',kernel_regularizer=哪种正则化)\n",
    "\n",
    "#####  activation可选的：\n",
    "\n",
    "`relu` `softmax` `sigmoid` `tanh`\n",
    "\n",
    "##### kernel_regularizer可选:\n",
    "\n",
    "`tf.keras.regularizers.l1()` `tf.keras.regularizers.l2()`\n",
    "\n",
    "\n",
    "\n",
    "\n",
    "\n",
    "# 4.model.compile(optimizer=优化器,loss=损失函数,metrics=['准确率'])\n",
    "\n",
    "##### Optimizer可选：\n",
    "\n",
    "**sgd** or `tf.keras.optimizers.SGD(lr=学习率,momentum=动量参数)`\n",
    "\n",
    "**adagrad** or `tf.keras.optimizers.Adagrad(lr)`\n",
    "\n",
    "**adadelta** or `tf.keras.optimizers.Adadelta(lr)`\n",
    "\n",
    "**adam** or `tf.keras.optimizers.Adam(lr,beta_1=0.9,beta_2=0.999)`\n",
    "\n",
    "##### Loss可选：\n",
    "\n",
    "**mse** or `tf.keras.losses.MeanSquaredError()`\n",
    "\n",
    "**sparse_categorical_crossentropy** or `tf.keras.losses.SparseCategoricalCrossentropy(from_logits=False)`\n",
    "\n",
    "ps:有的神经网络的输出是经过了softmax等函数的概率分布，有些则不经过概率分布则直接输出，可以认为这个参数实在询问是否是原始输出，也就是没有经过概率分布。如果经过了概率分布，就填写False\n",
    "\n",
    "##### Metrics告知网络评测指标可选：\n",
    "\n",
    "`accuracy` : 表示y_和y都是以数值形式表示的，如y_=[1] y=[1]\n",
    "\n",
    "`categorical_accuracy`: 表示y_和y都是独热码（概率分布）给出,如y_=[0,1,0]表示第一类鸢尾花 ，y（网络输出结果） = [0.256,0.223,0.048]\n",
    "\n",
    "`spare_categorical_accuracy`：y_是数值，y是独热码，如y_=[1]表示第一类鸢尾花， y=[0.256,0.695,0.421]\n"
   ]
  },
  {
   "cell_type": "markdown",
   "metadata": {},
   "source": [
    " # 5.model.fit()\n",
    " \n",
    " model.fit(训练集输入特征，训练集的标签，batch_sizes= , epochs= ,validation_data=(测试集的输入特征，测试集的标签),validation_split=从训练集划分多少比例改测试集，validation_freq=多少次epoch测试一次)\n",
    " \n",
    " validation_data和validation_split二者选择其一"
   ]
  },
  {
   "cell_type": "markdown",
   "metadata": {},
   "source": [
    "# 6.model.summary()\n",
    "\n",
    "打印出网络的结构，和参数统计"
   ]
  },
  {
   "cell_type": "code",
   "execution_count": null,
   "metadata": {},
   "outputs": [],
   "source": []
  },
  {
   "cell_type": "code",
   "execution_count": null,
   "metadata": {},
   "outputs": [],
   "source": []
  }
 ],
 "metadata": {
  "kernelspec": {
   "display_name": "Python 3",
   "language": "python",
   "name": "python3"
  },
  "language_info": {
   "codemirror_mode": {
    "name": "ipython",
    "version": 3
   },
   "file_extension": ".py",
   "mimetype": "text/x-python",
   "name": "python",
   "nbconvert_exporter": "python",
   "pygments_lexer": "ipython3",
   "version": "3.7.7"
  }
 },
 "nbformat": 4,
 "nbformat_minor": 4
}
