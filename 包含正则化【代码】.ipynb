{
 "cells": [
  {
   "cell_type": "code",
   "execution_count": 1,
   "metadata": {},
   "outputs": [],
   "source": [
    "import numpy as np\n",
    "import tensorflow as tf\n",
    "import pandas as pd\n",
    "from matplotlib import pyplot as plt"
   ]
  },
  {
   "cell_type": "code",
   "execution_count": 2,
   "metadata": {},
   "outputs": [],
   "source": [
    "df = pd.read_csv(\"./csv/dot.csv\")\n",
    "x_data = np.array(df[['x1','x2']])\n",
    "y_data = np.array(df['y_c'])\n",
    "x_train = x_data\n",
    "y_train = y_data.reshape(-1,1)\n",
    "\n",
    "Y_c = [['red' if y else 'blue'] for y in y_train]"
   ]
  },
  {
   "cell_type": "code",
   "execution_count": 3,
   "metadata": {},
   "outputs": [],
   "source": [
    "x_train = tf.cast(x_train,tf.float32)\n",
    "y_train = tf.cast(y_train,tf.float32)\n",
    "\n",
    "train_db = tf.data.Dataset.from_tensor_slices((x_train,y_train)).batch(32)"
   ]
  },
  {
   "cell_type": "code",
   "execution_count": 4,
   "metadata": {},
   "outputs": [],
   "source": [
    "w1 = tf.Variable(tf.random.normal([2,11]),dtype=tf.float32)\n",
    "b1 = tf.Variable(tf.constant(0.01,shape=[11]))\n",
    "w2 = tf.Variable(tf.random.normal([11,1]),dtype=tf.float32)\n",
    "b2 = tf.Variable(tf.constant(0.01,shape=[1]))"
   ]
  },
  {
   "cell_type": "code",
   "execution_count": 5,
   "metadata": {},
   "outputs": [],
   "source": [
    "lr = 0.005\n",
    "epoch = 800"
   ]
  },
  {
   "cell_type": "code",
   "execution_count": 6,
   "metadata": {},
   "outputs": [
    {
     "name": "stdout",
     "output_type": "stream",
     "text": [
      "epoch: 0 loss: 1.2142138481140137\n",
      "epoch: 20 loss: 0.45756974816322327\n",
      "epoch: 40 loss: 0.39209434390068054\n",
      "epoch: 60 loss: 0.35357484221458435\n",
      "epoch: 80 loss: 0.3250974416732788\n",
      "epoch: 100 loss: 0.3034583628177643\n",
      "epoch: 120 loss: 0.2860814929008484\n",
      "epoch: 140 loss: 0.2704770863056183\n",
      "epoch: 160 loss: 0.2563450038433075\n",
      "epoch: 180 loss: 0.2435774803161621\n",
      "epoch: 200 loss: 0.23149500787258148\n",
      "epoch: 220 loss: 0.22076517343521118\n",
      "epoch: 240 loss: 0.2110111564397812\n",
      "epoch: 260 loss: 0.2018071413040161\n",
      "epoch: 280 loss: 0.19320321083068848\n",
      "epoch: 300 loss: 0.18510836362838745\n",
      "epoch: 320 loss: 0.1775924265384674\n",
      "epoch: 340 loss: 0.1704978495836258\n",
      "epoch: 360 loss: 0.16384173929691315\n",
      "epoch: 380 loss: 0.15769076347351074\n",
      "epoch: 400 loss: 0.15188224613666534\n",
      "epoch: 420 loss: 0.14642611145973206\n",
      "epoch: 440 loss: 0.1413036733865738\n",
      "epoch: 460 loss: 0.1365128755569458\n",
      "epoch: 480 loss: 0.13192950189113617\n",
      "epoch: 500 loss: 0.1276877373456955\n",
      "epoch: 520 loss: 0.12381482869386673\n",
      "epoch: 540 loss: 0.12008244544267654\n",
      "epoch: 560 loss: 0.11676758527755737\n",
      "epoch: 580 loss: 0.11363645642995834\n",
      "epoch: 600 loss: 0.11072579026222229\n",
      "epoch: 620 loss: 0.10800430178642273\n",
      "epoch: 640 loss: 0.10549765080213547\n",
      "epoch: 660 loss: 0.10314921289682388\n",
      "epoch: 680 loss: 0.10091701149940491\n",
      "epoch: 700 loss: 0.09891483187675476\n",
      "epoch: 720 loss: 0.09710603207349777\n",
      "epoch: 740 loss: 0.0955057293176651\n",
      "epoch: 760 loss: 0.09397216886281967\n",
      "epoch: 780 loss: 0.09259030222892761\n"
     ]
    }
   ],
   "source": [
    "for epoch in range(epoch):\n",
    "    for step,(x_train,y_train) in enumerate(train_db):\n",
    "        with tf.GradientTape() as tape:\n",
    "            h1 = tf.matmul(x_train,w1) + b1\n",
    "            h1 = tf.nn.relu(h1)\n",
    "            y = tf.matmul(h1,w2) + b2\n",
    "            \n",
    "            loss_mse = tf.reduce_mean(tf.square(y_train-y))\n",
    "            # 添加L2正则化\n",
    "            loss_reqularization = []\n",
    "            loss_reqularization.append(tf.nn.l2_loss(w1))\n",
    "            loss_reqularization.append(tf.nn.l2_loss(w2))\n",
    "            # 求和\n",
    "            # 例如\n",
    "            # x = tf.constant(([1,1,1],[1,1,1])) tf.reduce_sum(x) ===> 6\n",
    "            loss_reqularization = tf.reduce_sum(loss_reqularization)\n",
    "            loss = loss_mse + 0.03 * loss_reqularization #REGULARIZER = 0.03\n",
    "        \n",
    "        # 计算loss对各个参数的梯度 sub减去\n",
    "        variables = [w1,b1,w2,b2]\n",
    "        grads = tape.gradient(loss,variables)\n",
    "        w1.assign_sub(lr * grads[0])\n",
    "        b1.assign_sub(lr * grads[1])\n",
    "        w2.assign_sub(lr * grads[2])\n",
    "        b2.assign_sub(lr * grads[3])\n",
    "    if epoch % 20 == 0:\n",
    "        print('epoch:', epoch, 'loss:', float(loss))\n",
    "        "
   ]
  },
  {
   "cell_type": "code",
   "execution_count": 7,
   "metadata": {},
   "outputs": [
    {
     "name": "stdout",
     "output_type": "stream",
     "text": [
      "预测部分\n"
     ]
    }
   ],
   "source": [
    "print(\"预测部分\")\n",
    "# 生成测试点\n",
    "xx,yy = np.mgrid[-3:3:.1,-3:3:.1]\n",
    "grid = np.c_[xx.ravel(),yy.ravel()]\n",
    "grid = tf.cast(grid,tf.float32)"
   ]
  },
  {
   "cell_type": "code",
   "execution_count": 8,
   "metadata": {},
   "outputs": [
    {
     "name": "stdout",
     "output_type": "stream",
     "text": [
      "(2,)\n",
      "(12, 2)\n"
     ]
    }
   ],
   "source": [
    "# probs为输出\n",
    "probs = []\n",
    "# x_predict 是测试用的点，对x_predict预测输出查看分类\n",
    "# 注意x_predict的shape和x_train的shape\n",
    "print(grid[0].shape) # (2,)\n",
    "print(x_train.shape) # (12,2)\n",
    "for x_predict in grid:    \n",
    "    \n",
    "    # 用x_predict = x_predict.reshape(x_train.shape)\n",
    "    # 'tensorflow.python.framework.ops.EagerTensor' object has no attribute 'reshape'\n",
    "    # 这里x_predict一开始写的grid、错误\n",
    "    \n",
    "    h1 = tf.matmul([x_predict],w1) + b1\n",
    "    h1 = tf.nn.relu(h1)\n",
    "    y = tf.matmul(h1,w2) + b2\n",
    "    probs.append(y)"
   ]
  },
  {
   "cell_type": "code",
   "execution_count": 9,
   "metadata": {},
   "outputs": [
    {
     "data": {
      "image/png": "[encoded data removed]",
      "text/plain": [
       "<Figure size 432x288 with 1 Axes>"
      ]
     },
     "metadata": {
      "needs_background": "light"
     },
     "output_type": "display_data"
    }
   ],
   "source": [
    "# 取第0列给x1，取第1列给x2\n",
    "x1 = x_data[:, 0]\n",
    "x2 = x_data[:, 1]\n",
    "# probs的shape调整成xx的样子\n",
    "probs = np.array(probs).reshape(xx.shape)\n",
    "plt.scatter(x1,x2,color=np.squeeze(Y_c))\n",
    "# 把坐标xx yy和对应的值probs放入contour函数，给probs值为0.5的所有点上色  plt.show()后 显示的是红蓝点的分界线\n",
    "plt.contour(xx, yy, probs, levels=[.5])\n",
    "plt.show()"
   ]
  },
  {
   "cell_type": "code",
   "execution_count": null,
   "metadata": {},
   "outputs": [],
   "source": [
    "# 与没有加正则化的图像相比、这里的曲线更加光滑，有着更好的泛化能力"
   ]
  }
 ],
 "metadata": {
  "kernelspec": {
   "display_name": "Python 3",
   "language": "python",
   "name": "python3"
  },
  "language_info": {
   "codemirror_mode": {
    "name": "ipython",
    "version": 3
   },
   "file_extension": ".py",
   "mimetype": "text/x-python",
   "name": "python",
   "nbconvert_exporter": "python",
   "pygments_lexer": "ipython3",
   "version": "3.7.7"
  }
 },
 "nbformat": 4,
 "nbformat_minor": 4
}
