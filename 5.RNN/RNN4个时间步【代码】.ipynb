{
 "cells": [
  {
   "cell_type": "code",
   "execution_count": 1,
   "metadata": {},
   "outputs": [],
   "source": [
    "# 连续输入4个字母，预测下一个字母\n",
    "import os\n",
    "import tensorflow as tf\n",
    "import matplotlib.pyplot as plt\n",
    "from tensorflow.keras.layers import SimpleRNN,Dense\n",
    "from tensorflow.keras.losses import SparseCategoricalCrossentropy\n",
    "from tensorflow.keras.optimizers import Adam\n",
    "import numpy as np"
   ]
  },
  {
   "cell_type": "code",
   "execution_count": 2,
   "metadata": {},
   "outputs": [
    {
     "name": "stdout",
     "output_type": "stream",
     "text": [
      "x_train:\n",
      "[[[1.0, 0.0, 0.0, 0.0, 0.0], [0.0, 1.0, 0.0, 0.0, 0.0], [0.0, 0.0, 1.0, 0.0, 0.0], [0.0, 0.0, 0.0, 1.0, 0.0]], [[0.0, 1.0, 0.0, 0.0, 0.0], [0.0, 0.0, 1.0, 0.0, 0.0], [0.0, 0.0, 0.0, 1.0, 0.0], [0.0, 0.0, 0.0, 0.0, 1.0]], [[0.0, 0.0, 1.0, 0.0, 0.0], [0.0, 0.0, 0.0, 1.0, 0.0], [0.0, 0.0, 0.0, 0.0, 1.0], [1.0, 0.0, 0.0, 0.0, 0.0]], [[0.0, 0.0, 0.0, 1.0, 0.0], [0.0, 0.0, 0.0, 0.0, 1.0], [1.0, 0.0, 0.0, 0.0, 0.0], [0.0, 1.0, 0.0, 0.0, 0.0]], [[0.0, 0.0, 0.0, 0.0, 1.0], [1.0, 0.0, 0.0, 0.0, 0.0], [0.0, 1.0, 0.0, 0.0, 0.0], [0.0, 0.0, 1.0, 0.0, 0.0]]]\n",
      "y_train:[4, 0, 1, 2, 3]\n",
      "\n"
     ]
    }
   ],
   "source": [
    "input_word = \"abcde\"\n",
    "w_to_id = {\n",
    "    \"a\":0,\n",
    "    \"b\":1,\n",
    "    \"c\":2,\n",
    "    \"d\":3,\n",
    "    \"e\":4\n",
    "}\n",
    "id_to_onehot = {\n",
    "    0:[1., 0., 0., 0., 0.],\n",
    "    1:[0., 1., 0., 0., 0.],\n",
    "    2:[0., 0., 1., 0., 0.],\n",
    "    3:[0., 0., 0., 1., 0.],\n",
    "    4:[0., 0., 0., 0., 1.]\n",
    "}\n",
    "x_train = [\n",
    "    [id_to_onehot[w_to_id['a']],id_to_onehot[w_to_id['b']],id_to_onehot[w_to_id['c']],id_to_onehot[w_to_id['d']]],\n",
    "    [id_to_onehot[w_to_id['b']],id_to_onehot[w_to_id['c']],id_to_onehot[w_to_id['d']],id_to_onehot[w_to_id['e']]],\n",
    "    [id_to_onehot[w_to_id['c']],id_to_onehot[w_to_id['d']],id_to_onehot[w_to_id['e']],id_to_onehot[w_to_id['a']]],\n",
    "    [id_to_onehot[w_to_id['d']],id_to_onehot[w_to_id['e']],id_to_onehot[w_to_id['a']],id_to_onehot[w_to_id['b']]],\n",
    "    [id_to_onehot[w_to_id['e']],id_to_onehot[w_to_id['a']],id_to_onehot[w_to_id['b']],id_to_onehot[w_to_id['c']]]\n",
    "]\n",
    "y_train = [\n",
    "    # y不需要独热编码了\n",
    "    w_to_id['e'],\n",
    "    w_to_id['a'],\n",
    "    w_to_id['b'],\n",
    "    w_to_id['c'],\n",
    "    w_to_id['d']\n",
    "]\n",
    "print(\"x_train:\\n{}\".format(x_train))\n",
    "print(\"y_train:{}\\n\".format(y_train))"
   ]
  },
  {
   "cell_type": "code",
   "execution_count": 3,
   "metadata": {},
   "outputs": [],
   "source": [
    "np.random.seed(7)\n",
    "np.random.shuffle(x_train)\n",
    "np.random.seed(7)\n",
    "np.random.shuffle(y_train)\n",
    "tf.random.set_seed(7)"
   ]
  },
  {
   "cell_type": "code",
   "execution_count": 4,
   "metadata": {},
   "outputs": [
    {
     "data": {
      "text/plain": [
       "array([4, 2, 1, 0, 3])"
      ]
     },
     "execution_count": 4,
     "metadata": {},
     "output_type": "execute_result"
    }
   ],
   "source": [
    "np.reshape(x_train,(len(x_train),4,5))\n",
    "np.array(y_train)"
   ]
  },
  {
   "cell_type": "code",
   "execution_count": 5,
   "metadata": {},
   "outputs": [],
   "source": [
    "model = tf.keras.Sequential([\n",
    "    # 具有3个记忆体的循环层，3是随意选的\n",
    "    SimpleRNN(3),\n",
    "    # 由于要映射到独热码编码，找到输出概率最大的字母，所以这里是5\n",
    "    Dense(5,activation=\"softmax\")    \n",
    "])\n"
   ]
  },
  {
   "cell_type": "code",
   "execution_count": 6,
   "metadata": {},
   "outputs": [],
   "source": [
    "model.compile(optimizer=Adam(0.01),loss=SparseCategoricalCrossentropy(from_logits=False),\n",
    "             metrics=['sparse_categorical_accuracy'])"
   ]
  },
  {
   "cell_type": "code",
   "execution_count": 7,
   "metadata": {},
   "outputs": [
    {
     "name": "stdout",
     "output_type": "stream",
     "text": [
      "----load the model-------\n"
     ]
    }
   ],
   "source": [
    "checkpoint_save_path = \"./checkpoint/rnn_onehot_4pre1.ckpt\"\n",
    "if os.path.exists(checkpoint_save_path + '.index'):\n",
    "    print(\"----load the model-------\")\n",
    "    model.load_weights(checkpoint_save_path)\n"
   ]
  },
  {
   "cell_type": "code",
   "execution_count": 8,
   "metadata": {},
   "outputs": [],
   "source": [
    "cp_callback = tf.keras.callbacks.ModelCheckpoint(filepath=checkpoint_save_path,\n",
    "                                                 save_weights_only=True,\n",
    "                                                 save_best_only=True,\n",
    "                                                 monitor='loss')  # 由于fit没有给出测试集，不计算测试集准确率，根据loss，保存最优模型"
   ]
  },
  {
   "cell_type": "code",
   "execution_count": 9,
   "metadata": {},
   "outputs": [
    {
     "name": "stdout",
     "output_type": "stream",
     "text": [
      "Train on 5 samples\n",
      "Epoch 1/100\n",
      "5/5 [==============================] - 1s 160ms/sample - loss: 0.2451 - sparse_categorical_accuracy: 1.0000\n",
      "Epoch 2/100\n",
      "5/5 [==============================] - 0s 5ms/sample - loss: 0.2412 - sparse_categorical_accuracy: 1.0000\n",
      "Epoch 3/100\n",
      "5/5 [==============================] - 0s 5ms/sample - loss: 0.2375 - sparse_categorical_accuracy: 1.0000\n",
      "Epoch 4/100\n",
      "5/5 [==============================] - 0s 5ms/sample - loss: 0.2338 - sparse_categorical_accuracy: 1.0000\n",
      "Epoch 5/100\n",
      "5/5 [==============================] - 0s 5ms/sample - loss: 0.2302 - sparse_categorical_accuracy: 1.0000\n",
      "Epoch 6/100\n",
      "5/5 [==============================] - 0s 5ms/sample - loss: 0.2268 - sparse_categorical_accuracy: 1.0000\n",
      "Epoch 7/100\n",
      "5/5 [==============================] - 0s 5ms/sample - loss: 0.2234 - sparse_categorical_accuracy: 1.0000\n",
      "Epoch 8/100\n",
      "5/5 [==============================] - 0s 5ms/sample - loss: 0.2200 - sparse_categorical_accuracy: 1.0000\n",
      "Epoch 9/100\n",
      "5/5 [==============================] - 0s 5ms/sample - loss: 0.2168 - sparse_categorical_accuracy: 1.0000\n",
      "Epoch 10/100\n",
      "5/5 [==============================] - 0s 6ms/sample - loss: 0.2136 - sparse_categorical_accuracy: 1.0000\n",
      "Epoch 11/100\n",
      "5/5 [==============================] - 0s 5ms/sample - loss: 0.2106 - sparse_categorical_accuracy: 1.0000\n",
      "Epoch 12/100\n",
      "5/5 [==============================] - 0s 5ms/sample - loss: 0.2075 - sparse_categorical_accuracy: 1.0000\n",
      "Epoch 13/100\n",
      "5/5 [==============================] - 0s 5ms/sample - loss: 0.2046 - sparse_categorical_accuracy: 1.0000\n",
      "Epoch 14/100\n",
      "5/5 [==============================] - 0s 5ms/sample - loss: 0.2017 - sparse_categorical_accuracy: 1.0000\n",
      "Epoch 15/100\n",
      "5/5 [==============================] - 0s 5ms/sample - loss: 0.1989 - sparse_categorical_accuracy: 1.0000\n",
      "Epoch 16/100\n",
      "5/5 [==============================] - 0s 5ms/sample - loss: 0.1962 - sparse_categorical_accuracy: 1.0000\n",
      "Epoch 17/100\n",
      "5/5 [==============================] - 0s 6ms/sample - loss: 0.1935 - sparse_categorical_accuracy: 1.0000\n",
      "Epoch 18/100\n",
      "5/5 [==============================] - 0s 6ms/sample - loss: 0.1909 - sparse_categorical_accuracy: 1.0000\n",
      "Epoch 19/100\n",
      "5/5 [==============================] - 0s 5ms/sample - loss: 0.1883 - sparse_categorical_accuracy: 1.0000\n",
      "Epoch 20/100\n",
      "5/5 [==============================] - 0s 5ms/sample - loss: 0.1858 - sparse_categorical_accuracy: 1.0000\n",
      "Epoch 21/100\n",
      "5/5 [==============================] - 0s 5ms/sample - loss: 0.1833 - sparse_categorical_accuracy: 1.0000\n",
      "Epoch 22/100\n",
      "5/5 [==============================] - 0s 5ms/sample - loss: 0.1809 - sparse_categorical_accuracy: 1.0000\n",
      "Epoch 23/100\n",
      "5/5 [==============================] - 0s 6ms/sample - loss: 0.1786 - sparse_categorical_accuracy: 1.0000\n",
      "Epoch 24/100\n",
      "5/5 [==============================] - 0s 5ms/sample - loss: 0.1763 - sparse_categorical_accuracy: 1.0000\n",
      "Epoch 25/100\n",
      "5/5 [==============================] - 0s 5ms/sample - loss: 0.1740 - sparse_categorical_accuracy: 1.0000\n",
      "Epoch 26/100\n",
      "5/5 [==============================] - 0s 5ms/sample - loss: 0.1718 - sparse_categorical_accuracy: 1.0000\n",
      "Epoch 27/100\n",
      "5/5 [==============================] - 0s 6ms/sample - loss: 0.1697 - sparse_categorical_accuracy: 1.0000\n",
      "Epoch 28/100\n",
      "5/5 [==============================] - 0s 5ms/sample - loss: 0.1676 - sparse_categorical_accuracy: 1.0000\n",
      "Epoch 29/100\n",
      "5/5 [==============================] - 0s 6ms/sample - loss: 0.1655 - sparse_categorical_accuracy: 1.0000\n",
      "Epoch 30/100\n",
      "5/5 [==============================] - 0s 5ms/sample - loss: 0.1635 - sparse_categorical_accuracy: 1.0000\n",
      "Epoch 31/100\n",
      "5/5 [==============================] - 0s 5ms/sample - loss: 0.1615 - sparse_categorical_accuracy: 1.0000\n",
      "Epoch 32/100\n",
      "5/5 [==============================] - 0s 6ms/sample - loss: 0.1595 - sparse_categorical_accuracy: 1.0000\n",
      "Epoch 33/100\n",
      "5/5 [==============================] - 0s 5ms/sample - loss: 0.1576 - sparse_categorical_accuracy: 1.0000\n",
      "Epoch 34/100\n",
      "5/5 [==============================] - 0s 5ms/sample - loss: 0.1558 - sparse_categorical_accuracy: 1.0000\n",
      "Epoch 35/100\n",
      "5/5 [==============================] - 0s 6ms/sample - loss: 0.1540 - sparse_categorical_accuracy: 1.0000\n",
      "Epoch 36/100\n",
      "5/5 [==============================] - 0s 5ms/sample - loss: 0.1522 - sparse_categorical_accuracy: 1.0000\n",
      "Epoch 37/100\n",
      "5/5 [==============================] - 0s 5ms/sample - loss: 0.1504 - sparse_categorical_accuracy: 1.0000\n",
      "Epoch 38/100\n",
      "5/5 [==============================] - 0s 7ms/sample - loss: 0.1487 - sparse_categorical_accuracy: 1.0000\n",
      "Epoch 39/100\n",
      "5/5 [==============================] - 0s 6ms/sample - loss: 0.1470 - sparse_categorical_accuracy: 1.0000\n",
      "Epoch 40/100\n",
      "5/5 [==============================] - 0s 5ms/sample - loss: 0.1453 - sparse_categorical_accuracy: 1.0000\n",
      "Epoch 41/100\n",
      "5/5 [==============================] - 0s 4ms/sample - loss: 0.1437 - sparse_categorical_accuracy: 1.0000\n",
      "Epoch 42/100\n",
      "5/5 [==============================] - 0s 5ms/sample - loss: 0.1421 - sparse_categorical_accuracy: 1.0000\n",
      "Epoch 43/100\n",
      "5/5 [==============================] - 0s 6ms/sample - loss: 0.1405 - sparse_categorical_accuracy: 1.0000\n",
      "Epoch 44/100\n",
      "5/5 [==============================] - 0s 5ms/sample - loss: 0.1390 - sparse_categorical_accuracy: 1.0000\n",
      "Epoch 45/100\n",
      "5/5 [==============================] - 0s 5ms/sample - loss: 0.1375 - sparse_categorical_accuracy: 1.0000\n",
      "Epoch 46/100\n",
      "5/5 [==============================] - 0s 5ms/sample - loss: 0.1360 - sparse_categorical_accuracy: 1.0000\n",
      "Epoch 47/100\n",
      "5/5 [==============================] - 0s 5ms/sample - loss: 0.1346 - sparse_categorical_accuracy: 1.0000\n",
      "Epoch 48/100\n",
      "5/5 [==============================] - 0s 6ms/sample - loss: 0.1331 - sparse_categorical_accuracy: 1.0000\n",
      "Epoch 49/100\n",
      "5/5 [==============================] - 0s 5ms/sample - loss: 0.1317 - sparse_categorical_accuracy: 1.0000\n",
      "Epoch 50/100\n",
      "5/5 [==============================] - 0s 6ms/sample - loss: 0.1303 - sparse_categorical_accuracy: 1.0000\n",
      "Epoch 51/100\n",
      "5/5 [==============================] - 0s 5ms/sample - loss: 0.1290 - sparse_categorical_accuracy: 1.0000\n",
      "Epoch 52/100\n",
      "5/5 [==============================] - 0s 5ms/sample - loss: 0.1277 - sparse_categorical_accuracy: 1.0000\n",
      "Epoch 53/100\n",
      "5/5 [==============================] - 0s 5ms/sample - loss: 0.1264 - sparse_categorical_accuracy: 1.0000\n",
      "Epoch 54/100\n",
      "5/5 [==============================] - 0s 6ms/sample - loss: 0.1251 - sparse_categorical_accuracy: 1.0000\n",
      "Epoch 55/100\n",
      "5/5 [==============================] - 0s 5ms/sample - loss: 0.1238 - sparse_categorical_accuracy: 1.0000\n",
      "Epoch 56/100\n",
      "5/5 [==============================] - 0s 6ms/sample - loss: 0.1226 - sparse_categorical_accuracy: 1.0000\n",
      "Epoch 57/100\n",
      "5/5 [==============================] - 0s 5ms/sample - loss: 0.1213 - sparse_categorical_accuracy: 1.0000\n",
      "Epoch 58/100\n",
      "5/5 [==============================] - 0s 5ms/sample - loss: 0.1201 - sparse_categorical_accuracy: 1.0000\n",
      "Epoch 59/100\n",
      "5/5 [==============================] - 0s 5ms/sample - loss: 0.1190 - sparse_categorical_accuracy: 1.0000\n",
      "Epoch 60/100\n",
      "5/5 [==============================] - 0s 5ms/sample - loss: 0.1178 - sparse_categorical_accuracy: 1.0000\n",
      "Epoch 61/100\n",
      "5/5 [==============================] - 0s 5ms/sample - loss: 0.1167 - sparse_categorical_accuracy: 1.0000\n",
      "Epoch 62/100\n",
      "5/5 [==============================] - 0s 5ms/sample - loss: 0.1155 - sparse_categorical_accuracy: 1.0000\n",
      "Epoch 63/100\n",
      "5/5 [==============================] - 0s 5ms/sample - loss: 0.1144 - sparse_categorical_accuracy: 1.0000\n",
      "Epoch 64/100\n",
      "5/5 [==============================] - 0s 6ms/sample - loss: 0.1133 - sparse_categorical_accuracy: 1.0000\n",
      "Epoch 65/100\n",
      "5/5 [==============================] - 0s 5ms/sample - loss: 0.1123 - sparse_categorical_accuracy: 1.0000\n",
      "Epoch 66/100\n",
      "5/5 [==============================] - 0s 5ms/sample - loss: 0.1112 - sparse_categorical_accuracy: 1.0000\n",
      "Epoch 67/100\n",
      "5/5 [==============================] - 0s 5ms/sample - loss: 0.1102 - sparse_categorical_accuracy: 1.0000\n",
      "Epoch 68/100\n",
      "5/5 [==============================] - 0s 5ms/sample - loss: 0.1092 - sparse_categorical_accuracy: 1.0000\n",
      "Epoch 69/100\n",
      "5/5 [==============================] - 0s 6ms/sample - loss: 0.1081 - sparse_categorical_accuracy: 1.0000\n"
     ]
    },
    {
     "name": "stdout",
     "output_type": "stream",
     "text": [
      "Epoch 70/100\n",
      "5/5 [==============================] - 0s 5ms/sample - loss: 0.1072 - sparse_categorical_accuracy: 1.0000\n",
      "Epoch 71/100\n",
      "5/5 [==============================] - 0s 5ms/sample - loss: 0.1062 - sparse_categorical_accuracy: 1.0000\n",
      "Epoch 72/100\n",
      "5/5 [==============================] - 0s 5ms/sample - loss: 0.1052 - sparse_categorical_accuracy: 1.0000\n",
      "Epoch 73/100\n",
      "5/5 [==============================] - 0s 5ms/sample - loss: 0.1043 - sparse_categorical_accuracy: 1.0000\n",
      "Epoch 74/100\n",
      "5/5 [==============================] - 0s 5ms/sample - loss: 0.1033 - sparse_categorical_accuracy: 1.0000\n",
      "Epoch 75/100\n",
      "5/5 [==============================] - 0s 5ms/sample - loss: 0.1024 - sparse_categorical_accuracy: 1.0000\n",
      "Epoch 76/100\n",
      "5/5 [==============================] - 0s 24ms/sample - loss: 0.1015 - sparse_categorical_accuracy: 1.0000\n",
      "Epoch 77/100\n",
      "5/5 [==============================] - 0s 6ms/sample - loss: 0.1006 - sparse_categorical_accuracy: 1.0000\n",
      "Epoch 78/100\n",
      "5/5 [==============================] - 0s 5ms/sample - loss: 0.0998 - sparse_categorical_accuracy: 1.0000\n",
      "Epoch 79/100\n",
      "5/5 [==============================] - 0s 5ms/sample - loss: 0.0989 - sparse_categorical_accuracy: 1.0000\n",
      "Epoch 80/100\n",
      "5/5 [==============================] - 0s 6ms/sample - loss: 0.0980 - sparse_categorical_accuracy: 1.0000\n",
      "Epoch 81/100\n",
      "5/5 [==============================] - 0s 6ms/sample - loss: 0.0972 - sparse_categorical_accuracy: 1.0000\n",
      "Epoch 82/100\n",
      "5/5 [==============================] - 0s 6ms/sample - loss: 0.0964 - sparse_categorical_accuracy: 1.0000\n",
      "Epoch 83/100\n",
      "5/5 [==============================] - 0s 5ms/sample - loss: 0.0955 - sparse_categorical_accuracy: 1.0000\n",
      "Epoch 84/100\n",
      "5/5 [==============================] - 0s 5ms/sample - loss: 0.0947 - sparse_categorical_accuracy: 1.0000\n",
      "Epoch 85/100\n",
      "5/5 [==============================] - 0s 5ms/sample - loss: 0.0940 - sparse_categorical_accuracy: 1.0000\n",
      "Epoch 86/100\n",
      "5/5 [==============================] - 0s 5ms/sample - loss: 0.0932 - sparse_categorical_accuracy: 1.0000\n",
      "Epoch 87/100\n",
      "5/5 [==============================] - 0s 5ms/sample - loss: 0.0924 - sparse_categorical_accuracy: 1.0000\n",
      "Epoch 88/100\n",
      "5/5 [==============================] - 0s 5ms/sample - loss: 0.0916 - sparse_categorical_accuracy: 1.0000\n",
      "Epoch 89/100\n",
      "5/5 [==============================] - 0s 5ms/sample - loss: 0.0909 - sparse_categorical_accuracy: 1.0000\n",
      "Epoch 90/100\n",
      "5/5 [==============================] - 0s 5ms/sample - loss: 0.0901 - sparse_categorical_accuracy: 1.0000\n",
      "Epoch 91/100\n",
      "5/5 [==============================] - 0s 5ms/sample - loss: 0.0894 - sparse_categorical_accuracy: 1.0000\n",
      "Epoch 92/100\n",
      "5/5 [==============================] - 0s 5ms/sample - loss: 0.0887 - sparse_categorical_accuracy: 1.0000\n",
      "Epoch 93/100\n",
      "5/5 [==============================] - 0s 5ms/sample - loss: 0.0880 - sparse_categorical_accuracy: 1.0000\n",
      "Epoch 94/100\n",
      "5/5 [==============================] - 0s 6ms/sample - loss: 0.0873 - sparse_categorical_accuracy: 1.0000\n",
      "Epoch 95/100\n",
      "5/5 [==============================] - 0s 6ms/sample - loss: 0.0866 - sparse_categorical_accuracy: 1.0000\n",
      "Epoch 96/100\n",
      "5/5 [==============================] - 0s 5ms/sample - loss: 0.0859 - sparse_categorical_accuracy: 1.0000\n",
      "Epoch 97/100\n",
      "5/5 [==============================] - 0s 8ms/sample - loss: 0.0852 - sparse_categorical_accuracy: 1.0000\n",
      "Epoch 98/100\n",
      "5/5 [==============================] - 0s 6ms/sample - loss: 0.0846 - sparse_categorical_accuracy: 1.0000\n",
      "Epoch 99/100\n",
      "5/5 [==============================] - 0s 5ms/sample - loss: 0.0839 - sparse_categorical_accuracy: 1.0000\n",
      "Epoch 100/100\n",
      "5/5 [==============================] - 0s 6ms/sample - loss: 0.0833 - sparse_categorical_accuracy: 1.0000\n"
     ]
    }
   ],
   "source": [
    "history = model.fit(x_train, y_train, batch_size=32, epochs=100, callbacks=[cp_callback])"
   ]
  },
  {
   "cell_type": "code",
   "execution_count": 10,
   "metadata": {},
   "outputs": [
    {
     "name": "stdout",
     "output_type": "stream",
     "text": [
      "Model: \"sequential\"\n",
      "_________________________________________________________________\n",
      "Layer (type)                 Output Shape              Param #   \n",
      "=================================================================\n",
      "simple_rnn (SimpleRNN)       multiple                  27        \n",
      "_________________________________________________________________\n",
      "dense (Dense)                multiple                  20        \n",
      "=================================================================\n",
      "Total params: 47\n",
      "Trainable params: 47\n",
      "Non-trainable params: 0\n",
      "_________________________________________________________________\n"
     ]
    }
   ],
   "source": [
    "model.summary()"
   ]
  },
  {
   "cell_type": "code",
   "execution_count": 11,
   "metadata": {},
   "outputs": [],
   "source": [
    "file = open('./weights.txt', 'w')  # 参数提取\n",
    "for v in model.trainable_variables:\n",
    "    file.write(str(v.name) + '\\n')\n",
    "    file.write(str(v.shape) + '\\n')\n",
    "    file.write(str(v.numpy()) + '\\n')\n",
    "file.close()"
   ]
  },
  {
   "cell_type": "code",
   "execution_count": 12,
   "metadata": {},
   "outputs": [
    {
     "data": {
      "image/png": "[encoded data removed]",
      "text/plain": [
       "<Figure size 432x288 with 2 Axes>"
      ]
     },
     "metadata": {
      "needs_background": "light"
     },
     "output_type": "display_data"
    }
   ],
   "source": [
    "# 显示训练集和验证集的acc和loss曲线\n",
    "acc = history.history['sparse_categorical_accuracy']\n",
    "loss = history.history['loss']\n",
    "\n",
    "plt.subplot(1, 2, 1)\n",
    "plt.plot(acc, label='Training Accuracy')\n",
    "plt.title('Training Accuracy')\n",
    "plt.legend()\n",
    "\n",
    "plt.subplot(1, 2, 2)\n",
    "plt.plot(loss, label='Training Loss')\n",
    "plt.title('Training Loss')\n",
    "plt.legend()\n",
    "plt.show()"
   ]
  },
  {
   "cell_type": "code",
   "execution_count": 13,
   "metadata": {},
   "outputs": [
    {
     "name": "stdout",
     "output_type": "stream",
     "text": [
      "input the number of test alphabet:5\n",
      "input test alphabet\n",
      "abed\n",
      "alphabeta:\n",
      "[[1.0, 0.0, 0.0, 0.0, 0.0], [0.0, 1.0, 0.0, 0.0, 0.0], [0.0, 0.0, 0.0, 0.0, 1.0], [0.0, 0.0, 0.0, 1.0, 0.0]]\n",
      "4\n",
      "abed->e\n",
      "input test alphabet\n",
      "ccea\n",
      "alphabeta:\n",
      "[[0.0, 0.0, 1.0, 0.0, 0.0], [0.0, 0.0, 1.0, 0.0, 0.0], [0.0, 0.0, 0.0, 0.0, 1.0], [1.0, 0.0, 0.0, 0.0, 0.0]]\n",
      "1\n",
      "ccea->b\n",
      "input test alphabet\n",
      "cccc\n",
      "alphabeta:\n",
      "[[0.0, 0.0, 1.0, 0.0, 0.0], [0.0, 0.0, 1.0, 0.0, 0.0], [0.0, 0.0, 1.0, 0.0, 0.0], [0.0, 0.0, 1.0, 0.0, 0.0]]\n",
      "4\n",
      "cccc->e\n",
      "input test alphabet\n",
      "abcd\n",
      "alphabeta:\n",
      "[[1.0, 0.0, 0.0, 0.0, 0.0], [0.0, 1.0, 0.0, 0.0, 0.0], [0.0, 0.0, 1.0, 0.0, 0.0], [0.0, 0.0, 0.0, 1.0, 0.0]]\n",
      "4\n",
      "abcd->e\n",
      "input test alphabet\n",
      "eeee\n",
      "alphabeta:\n",
      "[[0.0, 0.0, 0.0, 0.0, 1.0], [0.0, 0.0, 0.0, 0.0, 1.0], [0.0, 0.0, 0.0, 0.0, 1.0], [0.0, 0.0, 0.0, 0.0, 1.0]]\n",
      "0\n",
      "eeee->a\n"
     ]
    }
   ],
   "source": [
    "# predict\n",
    "preNum = int(input(\"input the number of test alphabet:\"))\n",
    "for i in range(preNum):\n",
    "    alphabet1 = input(\"input test alphabet\\n\")\n",
    "    alphabet = [id_to_onehot[w_to_id[a]] for a in alphabet1]\n",
    "    print(\"alphabeta:\\n{}\".format(alphabet))\n",
    "    # 此处验证效果送入了一个样本，所以1\n",
    "    alphabet = np.reshape(alphabet,(1,4,5))\n",
    "    result = model.predict([alphabet])\n",
    "    pred = np.argmax(result,axis=1)\n",
    "    pred = int(pred)\n",
    "    print(pred)\n",
    "    tf.print(alphabet1 + '->' + input_word[pred])"
   ]
  }
 ],
 "metadata": {
  "kernelspec": {
   "display_name": "Python 3",
   "language": "python",
   "name": "python3"
  },
  "language_info": {
   "codemirror_mode": {
    "name": "ipython",
    "version": 3
   },
   "file_extension": ".py",
   "mimetype": "text/x-python",
   "name": "python",
   "nbconvert_exporter": "python",
   "pygments_lexer": "ipython3",
   "version": "3.7.7"
  }
 },
 "nbformat": 4,
 "nbformat_minor": 4
}
