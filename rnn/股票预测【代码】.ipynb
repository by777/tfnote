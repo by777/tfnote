{
 "cells": [
  {
   "cell_type": "code",
   "execution_count": 6,
   "metadata": {},
   "outputs": [],
   "source": [
    "import numpy as np\n",
    "import os\n",
    "import tensorflow as tf\n",
    "import math\n",
    "import pandas as pd\n",
    "from matplotlib import pyplot as plt\n",
    "from tensorflow.keras.layers import Dense,SimpleRNN,Embedding,Dropout\n",
    "from tensorflow.keras import Sequential\n",
    "from tensorflow.keras.losses import SparseCategoricalCrossentropy\n",
    "from tensorflow.keras.optimizers import Adam\n",
    "from sklearn.preprocessing import MinMaxScaler\n",
    "from sklearn.metrics import mean_squared_error,mean_absolute_error\n"
   ]
  },
  {
   "cell_type": "code",
   "execution_count": 7,
   "metadata": {},
   "outputs": [
    {
     "data": {
      "text/plain": [
       "'们在训练集上调用fit_transform()，其实找到了均值μ和方差σ^2，即我们已经找到了转换规则，我们把这个规则利用在训练集上，同样，\\n我们可以直接将其运用到测试集上（甚至交叉验证集），所以在测试集上的处理，我们只需要标准化数据而不需要再次拟合数据'"
      ]
     },
     "execution_count": 7,
     "metadata": {},
     "output_type": "execute_result"
    }
   ],
   "source": [
    "maotai = pd.read_csv('./SH600519.csv')\n",
    "# 前（2426 -300 = 2126）天的开盘价作为训练集，\n",
    "# 表格从0开始记数，2：3是提取【2：3)列\n",
    "training_set = maotai.iloc[0:2426 -300,2:3].values\n",
    "# 后300天开盘价作为测试集\n",
    "test_set =maotai.iloc[2426-300:,2:3].values\n",
    "\n",
    "# 归一化到0~1之间\n",
    "sc = MinMaxScaler(feature_range=(0,1))\n",
    "# 求得训练集的最大值，最小值这些训练集固有的属性，并在训练集上进行归一化\n",
    "# fit_transform()的作用就是先拟合数据，然后转化它将其转化为标准形式。\n",
    "train_set_scaled = sc.fit_transform(training_set)\n",
    "# 利用训练集的属性对测试集进行归一化\n",
    "# tranform()的作用是通过找中心和缩放等实现标准化。\n",
    "test_set = sc.transform(test_set)\n",
    "'''们在训练集上调用fit_transform()，其实找到了均值μ和方差σ^2，即我们已经找到了转换规则，我们把这个规则利用在训练集上，同样，\n",
    "我们可以直接将其运用到测试集上（甚至交叉验证集），所以在测试集上的处理，我们只需要标准化数据而不需要再次拟合数据'''"
   ]
  },
  {
   "cell_type": "code",
   "execution_count": 8,
   "metadata": {},
   "outputs": [],
   "source": [
    "x_train = []\n",
    "y_train = []\n",
    "x_test = []\n",
    "y_test = []\n",
    "\n",
    "# 提取训练集中连续60天的开盘价作为输入特征x_train，第61天的数据作为标签\n",
    "# 共构建2426 - 300 = 2066组数据\n",
    "for i in range(60,len(train_set_scaled)):\n",
    "    x_train.append(train_set_scaled[i-60:i,0])\n",
    "    y_train.append(train_set_scaled[i,0])\n",
    "np.random.seed(7)\n",
    "np.random.shuffle(x_train)\n",
    "np.random.seed(7)\n",
    "np.random.shuffle(y_train)\n",
    "tf.random.set_seed(7)\n",
    "x_train,y_train = np.array(x_train),np.array(y_train)\n",
    "\n",
    "# 此处把整个数据集送入，送入样本数等于x_train[0]即60个开盘价，预测出第61天的开盘价\n",
    "# 循环核时间展开步数是60\n",
    "# 单个时间步送入特征是某一天的开盘价，只有一个数据，故单个时间步输入特征个数是1\n",
    "x_train = np.reshape(x_train,(x_train.shape[0],60,1))\n",
    "\n",
    "# 测试集 300 -60组测试数据 \n",
    "for i in range(60,len(test_set)):\n",
    "    x_test.append(test_set[i - 60 : i, 0])\n",
    "    y_test.append(test_set[i,0])\n",
    "x_test, y_test = np.array(x_test),np.array(y_test)\n",
    "x_test = np.reshape(x_test,(x_test.shape[0],60,1))"
   ]
  },
  {
   "cell_type": "code",
   "execution_count": 9,
   "metadata": {},
   "outputs": [],
   "source": [
    "model = Sequential([\n",
    "    # 80个记忆体，每个时间步推送ht给下一层\n",
    "    SimpleRNN(80,return_sequences=True),\n",
    "    Dropout(0.2),\n",
    "    SimpleRNN(100),\n",
    "    Dropout(0.2),\n",
    "    Dense(1)\n",
    "])\n"
   ]
  },
  {
   "cell_type": "code",
   "execution_count": 10,
   "metadata": {},
   "outputs": [],
   "source": [
    "# 改应用只观测loss数值，不观测准确率，所以删去metrics，一会再每个epoch只显示los值\n",
    "model.compile(optimizer=Adam(0.001),loss='mean_squared_error')"
   ]
  },
  {
   "cell_type": "code",
   "execution_count": 11,
   "metadata": {},
   "outputs": [],
   "source": [
    "checkpoint_save_path = \"./checkpoint/stock.ckpt\"\n",
    "if os.path.exists(checkpoint_save_path + '.index'):\n",
    "    print(\"-----load the model-----\")\n",
    "    model.load_weights(checkpoint_save_path)\n"
   ]
  },
  {
   "cell_type": "code",
   "execution_count": 13,
   "metadata": {},
   "outputs": [
    {
     "name": "stdout",
     "output_type": "stream",
     "text": [
      "Train on 2066 samples, validate on 240 samples\n",
      "Epoch 1/50\n",
      "2066/2066 [==============================] - 3s 1ms/sample - loss: 0.0681 - val_loss: 0.0406\n",
      "Epoch 2/50\n",
      "2066/2066 [==============================] - 1s 519us/sample - loss: 0.0197 - val_loss: 0.0402\n",
      "Epoch 3/50\n",
      "2066/2066 [==============================] - 1s 581us/sample - loss: 0.0113 - val_loss: 0.0079\n",
      "Epoch 4/50\n",
      "2066/2066 [==============================] - 1s 526us/sample - loss: 0.0083 - val_loss: 0.0080\n",
      "Epoch 5/50\n",
      "2066/2066 [==============================] - 1s 548us/sample - loss: 0.0071 - val_loss: 0.0125\n",
      "Epoch 6/50\n",
      "2066/2066 [==============================] - 1s 552us/sample - loss: 0.0059 - val_loss: 0.0044\n",
      "Epoch 7/50\n",
      "2066/2066 [==============================] - 1s 519us/sample - loss: 0.0050 - val_loss: 0.0048\n",
      "Epoch 8/50\n",
      "2066/2066 [==============================] - 1s 550us/sample - loss: 0.0043 - val_loss: 0.0029\n",
      "Epoch 9/50\n",
      "2066/2066 [==============================] - 1s 517us/sample - loss: 0.0041 - val_loss: 0.0016\n",
      "Epoch 10/50\n",
      "2066/2066 [==============================] - 1s 513us/sample - loss: 0.0037 - val_loss: 0.0110\n",
      "Epoch 11/50\n",
      "2066/2066 [==============================] - 1s 515us/sample - loss: 0.0033 - val_loss: 0.0058\n",
      "Epoch 12/50\n",
      "2066/2066 [==============================] - 1s 531us/sample - loss: 0.0034 - val_loss: 0.0015\n",
      "Epoch 13/50\n",
      "2066/2066 [==============================] - 1s 514us/sample - loss: 0.0030 - val_loss: 0.0025\n",
      "Epoch 14/50\n",
      "2066/2066 [==============================] - 1s 514us/sample - loss: 0.0028 - val_loss: 0.0106\n",
      "Epoch 15/50\n",
      "2066/2066 [==============================] - 1s 524us/sample - loss: 0.0025 - val_loss: 0.0021\n",
      "Epoch 16/50\n",
      "2066/2066 [==============================] - 1s 511us/sample - loss: 0.0024 - val_loss: 0.0022\n",
      "Epoch 17/50\n",
      "2066/2066 [==============================] - 1s 511us/sample - loss: 0.0020 - val_loss: 0.0045\n",
      "Epoch 18/50\n",
      "2066/2066 [==============================] - 1s 506us/sample - loss: 0.0023 - val_loss: 0.0033\n",
      "Epoch 19/50\n",
      "2066/2066 [==============================] - 1s 514us/sample - loss: 0.0025 - val_loss: 0.0052\n",
      "Epoch 20/50\n",
      "2066/2066 [==============================] - 1s 513us/sample - loss: 0.0022 - val_loss: 0.0052\n",
      "Epoch 21/50\n",
      "2066/2066 [==============================] - 1s 522us/sample - loss: 0.0019 - val_loss: 0.0036\n",
      "Epoch 22/50\n",
      "2066/2066 [==============================] - 1s 480us/sample - loss: 0.0019 - val_loss: 0.0017\n",
      "Epoch 23/50\n",
      "2066/2066 [==============================] - 1s 462us/sample - loss: 0.0018 - val_loss: 0.0059\n",
      "Epoch 24/50\n",
      "2066/2066 [==============================] - 1s 476us/sample - loss: 0.0019 - val_loss: 0.0012\n",
      "Epoch 25/50\n",
      "2066/2066 [==============================] - 1s 478us/sample - loss: 0.0017 - val_loss: 0.0013\n",
      "Epoch 26/50\n",
      "2066/2066 [==============================] - 1s 462us/sample - loss: 0.0016 - val_loss: 0.0016\n",
      "Epoch 27/50\n",
      "2066/2066 [==============================] - 1s 461us/sample - loss: 0.0015 - val_loss: 0.0014\n",
      "Epoch 28/50\n",
      "2066/2066 [==============================] - 1s 470us/sample - loss: 0.0014 - val_loss: 0.0038\n",
      "Epoch 29/50\n",
      "2066/2066 [==============================] - 1s 496us/sample - loss: 0.0016 - val_loss: 0.0010\n",
      "Epoch 30/50\n",
      "2066/2066 [==============================] - 1s 484us/sample - loss: 0.0014 - val_loss: 0.0011\n",
      "Epoch 31/50\n",
      "2066/2066 [==============================] - 1s 466us/sample - loss: 0.0013 - val_loss: 0.0112\n",
      "Epoch 32/50\n",
      "2066/2066 [==============================] - 1s 441us/sample - loss: 0.0016 - val_loss: 0.0015\n",
      "Epoch 33/50\n",
      "2066/2066 [==============================] - 1s 446us/sample - loss: 0.0017 - val_loss: 0.0016\n",
      "Epoch 34/50\n",
      "2066/2066 [==============================] - 1s 441us/sample - loss: 0.0013 - val_loss: 0.0056\n",
      "Epoch 35/50\n",
      "2066/2066 [==============================] - 1s 461us/sample - loss: 0.0012 - val_loss: 0.0012\n",
      "Epoch 36/50\n",
      "2066/2066 [==============================] - 1s 459us/sample - loss: 0.0014 - val_loss: 0.0012\n",
      "Epoch 37/50\n",
      "2066/2066 [==============================] - 1s 441us/sample - loss: 0.0011 - val_loss: 0.0053\n",
      "Epoch 38/50\n",
      "2066/2066 [==============================] - 1s 466us/sample - loss: 0.0012 - val_loss: 0.0011\n",
      "Epoch 39/50\n",
      "2066/2066 [==============================] - 1s 505us/sample - loss: 0.0013 - val_loss: 9.6181e-04\n",
      "Epoch 40/50\n",
      "2066/2066 [==============================] - 1s 530us/sample - loss: 0.0011 - val_loss: 0.0011\n",
      "Epoch 41/50\n",
      "2066/2066 [==============================] - 1s 512us/sample - loss: 0.0011 - val_loss: 0.0029\n",
      "Epoch 42/50\n",
      "2066/2066 [==============================] - 1s 507us/sample - loss: 0.0013 - val_loss: 0.0023\n",
      "Epoch 43/50\n",
      "2066/2066 [==============================] - 1s 507us/sample - loss: 9.8726e-04 - val_loss: 0.0033\n",
      "Epoch 44/50\n",
      "2066/2066 [==============================] - 1s 503us/sample - loss: 0.0012 - val_loss: 0.0040\n",
      "Epoch 45/50\n",
      "2066/2066 [==============================] - 1s 544us/sample - loss: 0.0011 - val_loss: 0.0012\n",
      "Epoch 46/50\n",
      "2066/2066 [==============================] - 1s 512us/sample - loss: 0.0013 - val_loss: 0.0033\n",
      "Epoch 47/50\n",
      "2066/2066 [==============================] - 1s 508us/sample - loss: 0.0011 - val_loss: 0.0020\n",
      "Epoch 48/50\n",
      "2066/2066 [==============================] - 1s 493us/sample - loss: 0.0012 - val_loss: 0.0031\n",
      "Epoch 49/50\n",
      "2066/2066 [==============================] - 1s 506us/sample - loss: 0.0010 - val_loss: 0.0018\n",
      "Epoch 50/50\n",
      "2066/2066 [==============================] - 1s 549us/sample - loss: 9.5379e-04 - val_loss: 0.0010\n",
      "Model: \"sequential\"\n",
      "_________________________________________________________________\n",
      "Layer (type)                 Output Shape              Param #   \n",
      "=================================================================\n",
      "simple_rnn (SimpleRNN)       multiple                  6560      \n",
      "_________________________________________________________________\n",
      "dropout (Dropout)            multiple                  0         \n",
      "_________________________________________________________________\n",
      "simple_rnn_1 (SimpleRNN)     multiple                  18100     \n",
      "_________________________________________________________________\n",
      "dropout_1 (Dropout)          multiple                  0         \n",
      "_________________________________________________________________\n",
      "dense (Dense)                multiple                  101       \n",
      "=================================================================\n",
      "Total params: 24,761\n",
      "Trainable params: 24,761\n",
      "Non-trainable params: 0\n",
      "_________________________________________________________________\n"
     ]
    }
   ],
   "source": [
    "cp_callkack = tf.keras.callbacks.ModelCheckpoint(filepath=checkpoint_save_path,\n",
    "                                                save_best_only=True,\n",
    "                                                save_weights_only=True,\n",
    "                                                monitor='val_loss')\n",
    "history = model.fit(x_train,y_train,batch_size=64,epochs=50,\n",
    "                    validation_data=(x_test,y_test),validation_freq=1,\n",
    "                   callbacks=[cp_callkack])\n",
    "model.summary()"
   ]
  },
  {
   "cell_type": "code",
   "execution_count": 16,
   "metadata": {},
   "outputs": [],
   "source": [
    "with open(\"./weights.txxt\",\"w\") as f:\n",
    "    for v in model.trainable_variables:\n",
    "        f.writelines(str(v.name))\n",
    "        f.writelines(str(v.shape))\n",
    "        f.writelines(str(v.numpy()))\n"
   ]
  },
  {
   "cell_type": "code",
   "execution_count": 15,
   "metadata": {},
   "outputs": [],
   "source": [
    "loss = history.history['loss']\n",
    "val_loss = history.history['val_loss']"
   ]
  },
  {
   "cell_type": "code",
   "execution_count": 17,
   "metadata": {},
   "outputs": [
    {
     "data": {
      "image/png": "[encoded data removed]",
      "text/plain": [
       "<Figure size 432x288 with 1 Axes>"
      ]
     },
     "metadata": {
      "needs_background": "light"
     },
     "output_type": "display_data"
    }
   ],
   "source": [
    "plt.plot(loss,label=\"Training Loss\")\n",
    "plt.plot(val_loss,label=\"Validation Loss\")\n",
    "plt.title(\"Training and Validation Loss\")\n",
    "plt.legend()\n",
    "plt.show()"
   ]
  },
  {
   "cell_type": "code",
   "execution_count": 18,
   "metadata": {},
   "outputs": [
    {
     "data": {
      "image/png": "[encoded data removed]",
      "text/plain": [
       "<Figure size 432x288 with 1 Axes>"
      ]
     },
     "metadata": {
      "needs_background": "light"
     },
     "output_type": "display_data"
    }
   ],
   "source": [
    "# predict\n",
    "# 对测试集输入数据进行预测\n",
    "predicted_stock_price = model.predict(x_test)\n",
    "# 对预测数据还原 --- 从（0~1）反归一化到原始范围\n",
    "predicted_stock_price = sc.inverse_transform(predicted_stock_price)\n",
    "# 对真实数据还原\n",
    "real_stock_price = sc.inverse_transform(test_set[60:])\n",
    "plt.plot(real_stock_price,label=\"MaoTai Stock Price\",color='red')\n",
    "plt.plot(predicted_stock_price,label=\"Predicted Stock Price\",color='blue')\n",
    "plt.title('MaoTai Stock Price Prediction')\n",
    "plt.xlabel(\"Time\")\n",
    "plt.ylabel(\"MaoTai Stock Price\")\n",
    "# plt.legend（）函数主要的作用就是给图加上图例\n",
    "plt.legend()\n",
    "plt.show()"
   ]
  },
  {
   "cell_type": "code",
   "execution_count": 20,
   "metadata": {},
   "outputs": [
    {
     "name": "stdout",
     "output_type": "stream",
     "text": [
      "均方误差：503.211814\n",
      "均方根误差：22.432383\n",
      "平均绝对误差：17.888682\n"
     ]
    }
   ],
   "source": [
    "# 模型预测效果量化\n",
    "# 均方误差\n",
    "mse = mean_squared_error(predicted_stock_price,real_stock_price)\n",
    "# 均方根误差\n",
    "rmse = math.sqrt(mean_squared_error(predicted_stock_price,real_stock_price))\n",
    "# 平均绝对误差\n",
    "mae = mean_absolute_error(predicted_stock_price,real_stock_price)\n",
    "print(\"均方误差：%.6f\" % mse)\n",
    "print(\"均方根误差：%.6f\" % rmse)\n",
    "print(\"平均绝对误差：%.6f\" % mae)"
   ]
  },
  {
   "cell_type": "code",
   "execution_count": null,
   "metadata": {},
   "outputs": [],
   "source": []
  }
 ],
 "metadata": {
  "kernelspec": {
   "display_name": "Python 3",
   "language": "python",
   "name": "python3"
  },
  "language_info": {
   "codemirror_mode": {
    "name": "ipython",
    "version": 3
   },
   "file_extension": ".py",
   "mimetype": "text/x-python",
   "name": "python",
   "nbconvert_exporter": "python",
   "pygments_lexer": "ipython3",
   "version": "3.7.7"
  }
 },
 "nbformat": 4,
 "nbformat_minor": 4
}
