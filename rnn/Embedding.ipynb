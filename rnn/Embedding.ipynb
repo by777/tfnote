{
 "cells": [
  {
   "cell_type": "markdown",
   "metadata": {},
   "source": [
    "### 独热码的缺点\n",
    "\n",
    "+ 数据量大，过于稀疏\n",
    "+ 映射之间是独立的，没有表现出关联性\n",
    "\n",
    "### Embedding\n",
    "\n",
    "    一种单词编码方法，用低维向量实现了编码。这种编码通过神经网络训练优化，能表达出单词间的相关性\n",
    "\n",
    "#### TF接口\n",
    "    \n",
    "    tf.keras.layers.Embedding(词汇表大小,编码维度)    \n",
    "    # 词汇表大小就是你一共要表示多少个单词\n",
    "    # 编码维度就是用几个数字表达一个单词  \n",
    "    # 对1~100编码，[4]编码为[0.25,0.1,0.11]\n",
    "    # tf.keras.layers.Embedding(100,3)\n",
    "    \n",
    "#### Embedding对输入数据的维度也有要求，要求x_train:\n",
    "\n",
    "+ 输入数据是二维的\n",
    "+ 第一维要求告知送入几个样本\n",
    "+ 第二维告知循环核时间展开步数\n",
    "    \n"
   ]
  },
  {
   "cell_type": "code",
   "execution_count": null,
   "metadata": {},
   "outputs": [],
   "source": []
  }
 ],
 "metadata": {
  "kernelspec": {
   "display_name": "Python 3",
   "language": "python",
   "name": "python3"
  },
  "language_info": {
   "codemirror_mode": {
    "name": "ipython",
    "version": 3
   },
   "file_extension": ".py",
   "mimetype": "text/x-python",
   "name": "python",
   "nbconvert_exporter": "python",
   "pygments_lexer": "ipython3",
   "version": "3.7.7"
  }
 },
 "nbformat": 4,
 "nbformat_minor": 4
}
