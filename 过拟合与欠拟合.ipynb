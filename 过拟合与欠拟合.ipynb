{
 "cells": [
  {
   "cell_type": "markdown",
   "metadata": {},
   "source": [
    "# 欠拟合的解决方法\n",
    "+ 增加输入特征项\n",
    "+ 增加网络参数\n",
    "+ 减少正则化参数\n",
    "\n",
    "# 过拟合的解决方法\n",
    "+ 数据清洗\n",
    "+ 增大训练集\n",
    "+ 采用正则化\n",
    "+ 增大正则化参数"
   ]
  },
  {
   "cell_type": "markdown",
   "metadata": {},
   "source": [
    "# 正则化缓解过拟合\n",
    "正则化在损失函数中引入模型复杂度指标，利用给*W加权值*，弱化了数据的噪声\n",
    "    loss = loss(y与y_) + REGULARIZER * LOSS(w)\n",
    "\n",
    "$$loss_{L1} = \\sum {w_i}$$\n",
    "$$loss_{L2} = \\sum {w^2_i}$$\n",
    "\n",
    "## 正则化的选择\n",
    "+ L1正则化大概率会使很多参数变为0，因此该方法通过稀疏参数来减少参数的数量\n",
    "+ L2正则化会让参数很接近0，可以降低参数值的大小"
   ]
  },
  {
   "attachments": {},
   "cell_type": "markdown",
   "metadata": {},
   "source": [
    "    # L2正则化\n",
    "    with tf.GradientTape() as tape:\n",
    "        h1 = tf.matmul(x_train,w1) + b1\n",
    "        h1 = tf.relu(h1)\n",
    "        y = tf.matmul(h1,w2) + b2\n",
    "        \n",
    "        lose_mse = tf.reduce_mean(tf.square(y_train-y))\n",
    "        \n",
    "        loss_regularization = []\n",
    "        loss_regularization.append(tf.nn.l2_loss(w1))\n",
    "        loss_regularization.append(tf.nn.l2_loss(w2))\n",
    "        loss_regularization = tf.educe_sum(loss_regularization)\n",
    "        loss = lose_mse + 0.3\n",
    "        \n",
    "    variables = [w1,b1,w2,b2]\n",
    "    grads = tape.gradient(loss,variables)"
   ]
  },
  {
   "cell_type": "code",
   "execution_count": null,
   "metadata": {},
   "outputs": [],
   "source": []
  }
 ],
 "metadata": {
  "kernelspec": {
   "display_name": "Python 3",
   "language": "python",
   "name": "python3"
  },
  "language_info": {
   "codemirror_mode": {
    "name": "ipython",
    "version": 3
   },
   "file_extension": ".py",
   "mimetype": "text/x-python",
   "name": "python",
   "nbconvert_exporter": "python",
   "pygments_lexer": "ipython3",
   "version": "3.7.7"
  }
 },
 "nbformat": 4,
 "nbformat_minor": 4
}
